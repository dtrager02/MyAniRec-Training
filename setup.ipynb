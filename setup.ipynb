{
 "cells": [
  {
   "cell_type": "code",
   "execution_count": 11,
   "metadata": {},
   "outputs": [
    {
     "name": "stdout",
     "output_type": "stream",
     "text": [
      "The autoreload extension is already loaded. To reload it, use:\n",
      "  %reload_ext autoreload\n"
     ]
    }
   ],
   "source": [
    "%load_ext autoreload"
   ]
  },
  {
   "attachments": {},
   "cell_type": "markdown",
   "metadata": {},
   "source": [
    "### Load data"
   ]
  },
  {
   "cell_type": "code",
   "execution_count": 2,
   "metadata": {},
   "outputs": [
    {
     "data": {
      "text/html": [
       "<div>\n",
       "<style scoped>\n",
       "    .dataframe tbody tr th:only-of-type {\n",
       "        vertical-align: middle;\n",
       "    }\n",
       "\n",
       "    .dataframe tbody tr th {\n",
       "        vertical-align: top;\n",
       "    }\n",
       "\n",
       "    .dataframe thead th {\n",
       "        text-align: right;\n",
       "    }\n",
       "</style>\n",
       "<table border=\"1\" class=\"dataframe\">\n",
       "  <thead>\n",
       "    <tr style=\"text-align: right;\">\n",
       "      <th></th>\n",
       "      <th>index</th>\n",
       "      <th>user</th>\n",
       "      <th>anime_id</th>\n",
       "      <th>score</th>\n",
       "      <th>status</th>\n",
       "      <th>created_at</th>\n",
       "    </tr>\n",
       "  </thead>\n",
       "  <tbody>\n",
       "    <tr>\n",
       "      <th>0</th>\n",
       "      <td>0</td>\n",
       "      <td>DeleteAccountPlz</td>\n",
       "      <td>12149</td>\n",
       "      <td>8</td>\n",
       "      <td>2</td>\n",
       "      <td>1337262717</td>\n",
       "    </tr>\n",
       "    <tr>\n",
       "      <th>1</th>\n",
       "      <td>1</td>\n",
       "      <td>DeleteAccountPlz</td>\n",
       "      <td>14941</td>\n",
       "      <td>9</td>\n",
       "      <td>2</td>\n",
       "      <td>1365094767</td>\n",
       "    </tr>\n",
       "    <tr>\n",
       "      <th>2</th>\n",
       "      <td>2</td>\n",
       "      <td>DeleteAccountPlz</td>\n",
       "      <td>150</td>\n",
       "      <td>10</td>\n",
       "      <td>2</td>\n",
       "      <td>1401970697</td>\n",
       "    </tr>\n",
       "    <tr>\n",
       "      <th>3</th>\n",
       "      <td>3</td>\n",
       "      <td>DeleteAccountPlz</td>\n",
       "      <td>1482</td>\n",
       "      <td>10</td>\n",
       "      <td>2</td>\n",
       "      <td>1401970764</td>\n",
       "    </tr>\n",
       "    <tr>\n",
       "      <th>4</th>\n",
       "      <td>4</td>\n",
       "      <td>DeleteAccountPlz</td>\n",
       "      <td>1535</td>\n",
       "      <td>10</td>\n",
       "      <td>2</td>\n",
       "      <td>1365095869</td>\n",
       "    </tr>\n",
       "  </tbody>\n",
       "</table>\n",
       "</div>"
      ],
      "text/plain": [
       "   index              user  anime_id  score  status  created_at\n",
       "0      0  DeleteAccountPlz     12149      8       2  1337262717\n",
       "1      1  DeleteAccountPlz     14941      9       2  1365094767\n",
       "2      2  DeleteAccountPlz       150     10       2  1401970697\n",
       "3      3  DeleteAccountPlz      1482     10       2  1401970764\n",
       "4      4  DeleteAccountPlz      1535     10       2  1365095869"
      ]
     },
     "execution_count": 2,
     "metadata": {},
     "output_type": "execute_result"
    }
   ],
   "source": [
    "import pandas as pd\n",
    "a = pd.read_feather(\"ratings5.feather\")\n",
    "a.head()"
   ]
  },
  {
   "cell_type": "code",
   "execution_count": 3,
   "metadata": {},
   "outputs": [
    {
     "data": {
      "text/html": [
       "<div>\n",
       "<style scoped>\n",
       "    .dataframe tbody tr th:only-of-type {\n",
       "        vertical-align: middle;\n",
       "    }\n",
       "\n",
       "    .dataframe tbody tr th {\n",
       "        vertical-align: top;\n",
       "    }\n",
       "\n",
       "    .dataframe thead th {\n",
       "        text-align: right;\n",
       "    }\n",
       "</style>\n",
       "<table border=\"1\" class=\"dataframe\">\n",
       "  <thead>\n",
       "    <tr style=\"text-align: right;\">\n",
       "      <th></th>\n",
       "      <th>index</th>\n",
       "      <th>user</th>\n",
       "      <th>anime_id</th>\n",
       "      <th>score</th>\n",
       "      <th>status</th>\n",
       "      <th>created_at</th>\n",
       "    </tr>\n",
       "  </thead>\n",
       "  <tbody>\n",
       "    <tr>\n",
       "      <th>0</th>\n",
       "      <td>0</td>\n",
       "      <td>DeleteAccountPlz</td>\n",
       "      <td>12149</td>\n",
       "      <td>8</td>\n",
       "      <td>2</td>\n",
       "      <td>1337262717</td>\n",
       "    </tr>\n",
       "    <tr>\n",
       "      <th>1</th>\n",
       "      <td>1</td>\n",
       "      <td>DeleteAccountPlz</td>\n",
       "      <td>14941</td>\n",
       "      <td>9</td>\n",
       "      <td>2</td>\n",
       "      <td>1365094767</td>\n",
       "    </tr>\n",
       "    <tr>\n",
       "      <th>2</th>\n",
       "      <td>2</td>\n",
       "      <td>DeleteAccountPlz</td>\n",
       "      <td>150</td>\n",
       "      <td>10</td>\n",
       "      <td>2</td>\n",
       "      <td>1401970697</td>\n",
       "    </tr>\n",
       "    <tr>\n",
       "      <th>3</th>\n",
       "      <td>3</td>\n",
       "      <td>DeleteAccountPlz</td>\n",
       "      <td>1482</td>\n",
       "      <td>10</td>\n",
       "      <td>2</td>\n",
       "      <td>1401970764</td>\n",
       "    </tr>\n",
       "    <tr>\n",
       "      <th>4</th>\n",
       "      <td>4</td>\n",
       "      <td>DeleteAccountPlz</td>\n",
       "      <td>1535</td>\n",
       "      <td>10</td>\n",
       "      <td>2</td>\n",
       "      <td>1365095869</td>\n",
       "    </tr>\n",
       "    <tr>\n",
       "      <th>5</th>\n",
       "      <td>5</td>\n",
       "      <td>DeleteAccountPlz</td>\n",
       "      <td>122</td>\n",
       "      <td>10</td>\n",
       "      <td>2</td>\n",
       "      <td>1327245438</td>\n",
       "    </tr>\n",
       "    <tr>\n",
       "      <th>6</th>\n",
       "      <td>6</td>\n",
       "      <td>DeleteAccountPlz</td>\n",
       "      <td>5114</td>\n",
       "      <td>10</td>\n",
       "      <td>2</td>\n",
       "      <td>1327245313</td>\n",
       "    </tr>\n",
       "    <tr>\n",
       "      <th>7</th>\n",
       "      <td>7</td>\n",
       "      <td>DeleteAccountPlz</td>\n",
       "      <td>1281</td>\n",
       "      <td>9</td>\n",
       "      <td>2</td>\n",
       "      <td>1401970752</td>\n",
       "    </tr>\n",
       "    <tr>\n",
       "      <th>8</th>\n",
       "      <td>8</td>\n",
       "      <td>DeleteAccountPlz</td>\n",
       "      <td>1516</td>\n",
       "      <td>9</td>\n",
       "      <td>2</td>\n",
       "      <td>1401970723</td>\n",
       "    </tr>\n",
       "    <tr>\n",
       "      <th>9</th>\n",
       "      <td>9</td>\n",
       "      <td>DeleteAccountPlz</td>\n",
       "      <td>2034</td>\n",
       "      <td>8</td>\n",
       "      <td>2</td>\n",
       "      <td>1401970936</td>\n",
       "    </tr>\n",
       "    <tr>\n",
       "      <th>10</th>\n",
       "      <td>10</td>\n",
       "      <td>DeleteAccountPlz</td>\n",
       "      <td>1430</td>\n",
       "      <td>9</td>\n",
       "      <td>2</td>\n",
       "      <td>1401970663</td>\n",
       "    </tr>\n",
       "    <tr>\n",
       "      <th>11</th>\n",
       "      <td>11</td>\n",
       "      <td>DeleteAccountPlz</td>\n",
       "      <td>3572</td>\n",
       "      <td>10</td>\n",
       "      <td>2</td>\n",
       "      <td>1327241939</td>\n",
       "    </tr>\n",
       "    <tr>\n",
       "      <th>12</th>\n",
       "      <td>12</td>\n",
       "      <td>DeleteAccountPlz</td>\n",
       "      <td>5310</td>\n",
       "      <td>10</td>\n",
       "      <td>2</td>\n",
       "      <td>1327241925</td>\n",
       "    </tr>\n",
       "    <tr>\n",
       "      <th>13</th>\n",
       "      <td>13</td>\n",
       "      <td>DeleteAccountPlz</td>\n",
       "      <td>7222</td>\n",
       "      <td>10</td>\n",
       "      <td>2</td>\n",
       "      <td>1327241909</td>\n",
       "    </tr>\n",
       "    <tr>\n",
       "      <th>14</th>\n",
       "      <td>14</td>\n",
       "      <td>DeleteAccountPlz</td>\n",
       "      <td>1565</td>\n",
       "      <td>8</td>\n",
       "      <td>2</td>\n",
       "      <td>1401970640</td>\n",
       "    </tr>\n",
       "    <tr>\n",
       "      <th>15</th>\n",
       "      <td>15</td>\n",
       "      <td>DeleteAccountPlz</td>\n",
       "      <td>2993</td>\n",
       "      <td>10</td>\n",
       "      <td>2</td>\n",
       "      <td>1401971012</td>\n",
       "    </tr>\n",
       "    <tr>\n",
       "      <th>16</th>\n",
       "      <td>16</td>\n",
       "      <td>DeleteAccountPlz</td>\n",
       "      <td>4214</td>\n",
       "      <td>10</td>\n",
       "      <td>2</td>\n",
       "      <td>1401971033</td>\n",
       "    </tr>\n",
       "    <tr>\n",
       "      <th>17</th>\n",
       "      <td>17</td>\n",
       "      <td>DeleteAccountPlz</td>\n",
       "      <td>64</td>\n",
       "      <td>9</td>\n",
       "      <td>2</td>\n",
       "      <td>1401970621</td>\n",
       "    </tr>\n",
       "    <tr>\n",
       "      <th>18</th>\n",
       "      <td>18</td>\n",
       "      <td>DeleteAccountPlz</td>\n",
       "      <td>10308</td>\n",
       "      <td>10</td>\n",
       "      <td>2</td>\n",
       "      <td>1401970604</td>\n",
       "    </tr>\n",
       "    <tr>\n",
       "      <th>19</th>\n",
       "      <td>19</td>\n",
       "      <td>DeleteAccountPlz</td>\n",
       "      <td>11751</td>\n",
       "      <td>10</td>\n",
       "      <td>2</td>\n",
       "      <td>1365095010</td>\n",
       "    </tr>\n",
       "    <tr>\n",
       "      <th>20</th>\n",
       "      <td>20</td>\n",
       "      <td>DeleteAccountPlz</td>\n",
       "      <td>2923</td>\n",
       "      <td>9</td>\n",
       "      <td>2</td>\n",
       "      <td>1401970961</td>\n",
       "    </tr>\n",
       "    <tr>\n",
       "      <th>21</th>\n",
       "      <td>21</td>\n",
       "      <td>DeleteAccountPlz</td>\n",
       "      <td>7082</td>\n",
       "      <td>8</td>\n",
       "      <td>2</td>\n",
       "      <td>1401971002</td>\n",
       "    </tr>\n",
       "    <tr>\n",
       "      <th>22</th>\n",
       "      <td>22</td>\n",
       "      <td>DeleteAccountPlz</td>\n",
       "      <td>5262</td>\n",
       "      <td>10</td>\n",
       "      <td>2</td>\n",
       "      <td>1401970980</td>\n",
       "    </tr>\n",
       "    <tr>\n",
       "      <th>23</th>\n",
       "      <td>23</td>\n",
       "      <td>DeleteAccountPlz</td>\n",
       "      <td>3588</td>\n",
       "      <td>9</td>\n",
       "      <td>2</td>\n",
       "      <td>1401970921</td>\n",
       "    </tr>\n",
       "    <tr>\n",
       "      <th>24</th>\n",
       "      <td>24</td>\n",
       "      <td>DeleteAccountPlz</td>\n",
       "      <td>27</td>\n",
       "      <td>10</td>\n",
       "      <td>2</td>\n",
       "      <td>1332774521</td>\n",
       "    </tr>\n",
       "    <tr>\n",
       "      <th>25</th>\n",
       "      <td>25</td>\n",
       "      <td>DeleteAccountPlz</td>\n",
       "      <td>688</td>\n",
       "      <td>8</td>\n",
       "      <td>2</td>\n",
       "      <td>1401970586</td>\n",
       "    </tr>\n",
       "    <tr>\n",
       "      <th>26</th>\n",
       "      <td>26</td>\n",
       "      <td>DeleteAccountPlz</td>\n",
       "      <td>1397</td>\n",
       "      <td>0</td>\n",
       "      <td>6</td>\n",
       "      <td>1327245580</td>\n",
       "    </tr>\n",
       "  </tbody>\n",
       "</table>\n",
       "</div>"
      ],
      "text/plain": [
       "    index              user  anime_id  score  status  created_at\n",
       "0       0  DeleteAccountPlz     12149      8       2  1337262717\n",
       "1       1  DeleteAccountPlz     14941      9       2  1365094767\n",
       "2       2  DeleteAccountPlz       150     10       2  1401970697\n",
       "3       3  DeleteAccountPlz      1482     10       2  1401970764\n",
       "4       4  DeleteAccountPlz      1535     10       2  1365095869\n",
       "5       5  DeleteAccountPlz       122     10       2  1327245438\n",
       "6       6  DeleteAccountPlz      5114     10       2  1327245313\n",
       "7       7  DeleteAccountPlz      1281      9       2  1401970752\n",
       "8       8  DeleteAccountPlz      1516      9       2  1401970723\n",
       "9       9  DeleteAccountPlz      2034      8       2  1401970936\n",
       "10     10  DeleteAccountPlz      1430      9       2  1401970663\n",
       "11     11  DeleteAccountPlz      3572     10       2  1327241939\n",
       "12     12  DeleteAccountPlz      5310     10       2  1327241925\n",
       "13     13  DeleteAccountPlz      7222     10       2  1327241909\n",
       "14     14  DeleteAccountPlz      1565      8       2  1401970640\n",
       "15     15  DeleteAccountPlz      2993     10       2  1401971012\n",
       "16     16  DeleteAccountPlz      4214     10       2  1401971033\n",
       "17     17  DeleteAccountPlz        64      9       2  1401970621\n",
       "18     18  DeleteAccountPlz     10308     10       2  1401970604\n",
       "19     19  DeleteAccountPlz     11751     10       2  1365095010\n",
       "20     20  DeleteAccountPlz      2923      9       2  1401970961\n",
       "21     21  DeleteAccountPlz      7082      8       2  1401971002\n",
       "22     22  DeleteAccountPlz      5262     10       2  1401970980\n",
       "23     23  DeleteAccountPlz      3588      9       2  1401970921\n",
       "24     24  DeleteAccountPlz        27     10       2  1332774521\n",
       "25     25  DeleteAccountPlz       688      8       2  1401970586\n",
       "26     26  DeleteAccountPlz      1397      0       6  1327245580"
      ]
     },
     "execution_count": 3,
     "metadata": {},
     "output_type": "execute_result"
    }
   ],
   "source": [
    "a[a['user'] == \"DeleteAccountPlz\"]"
   ]
  },
  {
   "cell_type": "code",
   "execution_count": 13,
   "metadata": {},
   "outputs": [
    {
     "data": {
      "text/plain": [
       "user          object\n",
       "anime_id       int32\n",
       "score           int8\n",
       "status          int8\n",
       "created_at     int32\n",
       "dtype: object"
      ]
     },
     "execution_count": 13,
     "metadata": {},
     "output_type": "execute_result"
    }
   ],
   "source": [
    "a.drop(columns=[\"index\"], inplace=True)\n",
    "a.dtypes"
   ]
  },
  {
   "attachments": {},
   "cell_type": "markdown",
   "metadata": {},
   "source": [
    "### Count \"popular\" items"
   ]
  },
  {
   "cell_type": "code",
   "execution_count": 14,
   "metadata": {},
   "outputs": [],
   "source": [
    "a = a[a['status'] < 5]\n",
    "zero_users = a[a['status']==0].loc[:,'user'].unique()\n",
    "a = a[~a['user'].isin(zero_users)]   "
   ]
  },
  {
   "cell_type": "code",
   "execution_count": 15,
   "metadata": {},
   "outputs": [
    {
     "data": {
      "text/plain": [
       "10654"
      ]
     },
     "execution_count": 15,
     "metadata": {},
     "output_type": "execute_result"
    }
   ],
   "source": [
    "b = a['anime_id'].value_counts()\n",
    "b[b>300].count()"
   ]
  },
  {
   "cell_type": "code",
   "execution_count": 16,
   "metadata": {},
   "outputs": [],
   "source": [
    "a.rename(columns={'user':'username'},inplace=True)"
   ]
  },
  {
   "attachments": {},
   "cell_type": "markdown",
   "metadata": {},
   "source": [
    "### Remove rare items"
   ]
  },
  {
   "cell_type": "code",
   "execution_count": 17,
   "metadata": {},
   "outputs": [
    {
     "data": {
      "text/plain": [
       "(200059494, 5)"
      ]
     },
     "execution_count": 17,
     "metadata": {},
     "output_type": "execute_result"
    }
   ],
   "source": [
    "a = a[a['anime_id'].isin(b[b>300].index)]\n",
    "a.shape"
   ]
  },
  {
   "attachments": {},
   "cell_type": "markdown",
   "metadata": {},
   "source": [
    "### Count and remove rare users"
   ]
  },
  {
   "cell_type": "code",
   "execution_count": 18,
   "metadata": {},
   "outputs": [
    {
     "data": {
      "text/plain": [
       "1086472"
      ]
     },
     "execution_count": 18,
     "metadata": {},
     "output_type": "execute_result"
    }
   ],
   "source": [
    "b = a['username'].value_counts()\n",
    "b[b>5].count()"
   ]
  },
  {
   "cell_type": "code",
   "execution_count": 19,
   "metadata": {},
   "outputs": [
    {
     "data": {
      "text/plain": [
       "(199874036, 5)"
      ]
     },
     "execution_count": 19,
     "metadata": {},
     "output_type": "execute_result"
    }
   ],
   "source": [
    "a = a[a['username'].isin(b[b>5].index)]\n",
    "a.shape"
   ]
  },
  {
   "attachments": {},
   "cell_type": "markdown",
   "metadata": {},
   "source": [
    "### Map usernames to numbers"
   ]
  },
  {
   "cell_type": "code",
   "execution_count": 20,
   "metadata": {},
   "outputs": [
    {
     "data": {
      "text/plain": [
       "array([      0,       1,       2, ..., 1086469, 1086470, 1086471],\n",
       "      dtype=int64)"
      ]
     },
     "execution_count": 20,
     "metadata": {},
     "output_type": "execute_result"
    }
   ],
   "source": [
    "mapper = dict(zip(a['username'].unique(),[*range(a['username'].nunique())]))\n",
    "a['username'] = a['username'].map(mapper)\n",
    "a['username'].unique()"
   ]
  },
  {
   "attachments": {},
   "cell_type": "markdown",
   "metadata": {},
   "source": [
    "### Remove extra columns"
   ]
  },
  {
   "cell_type": "code",
   "execution_count": 21,
   "metadata": {},
   "outputs": [],
   "source": [
    "a = a.iloc[:,:].set_index('username').astype(\"int32\")"
   ]
  },
  {
   "cell_type": "code",
   "execution_count": 22,
   "metadata": {},
   "outputs": [
    {
     "data": {
      "text/html": [
       "<div>\n",
       "<style scoped>\n",
       "    .dataframe tbody tr th:only-of-type {\n",
       "        vertical-align: middle;\n",
       "    }\n",
       "\n",
       "    .dataframe tbody tr th {\n",
       "        vertical-align: top;\n",
       "    }\n",
       "\n",
       "    .dataframe thead th {\n",
       "        text-align: right;\n",
       "    }\n",
       "</style>\n",
       "<table border=\"1\" class=\"dataframe\">\n",
       "  <thead>\n",
       "    <tr style=\"text-align: right;\">\n",
       "      <th></th>\n",
       "      <th>anime_id</th>\n",
       "      <th>score</th>\n",
       "      <th>status</th>\n",
       "      <th>created_at</th>\n",
       "    </tr>\n",
       "    <tr>\n",
       "      <th>username</th>\n",
       "      <th></th>\n",
       "      <th></th>\n",
       "      <th></th>\n",
       "      <th></th>\n",
       "    </tr>\n",
       "  </thead>\n",
       "  <tbody>\n",
       "    <tr>\n",
       "      <th>0</th>\n",
       "      <td>12149</td>\n",
       "      <td>8</td>\n",
       "      <td>2</td>\n",
       "      <td>1337262717</td>\n",
       "    </tr>\n",
       "    <tr>\n",
       "      <th>0</th>\n",
       "      <td>14941</td>\n",
       "      <td>9</td>\n",
       "      <td>2</td>\n",
       "      <td>1365094767</td>\n",
       "    </tr>\n",
       "    <tr>\n",
       "      <th>0</th>\n",
       "      <td>150</td>\n",
       "      <td>10</td>\n",
       "      <td>2</td>\n",
       "      <td>1401970697</td>\n",
       "    </tr>\n",
       "    <tr>\n",
       "      <th>0</th>\n",
       "      <td>1482</td>\n",
       "      <td>10</td>\n",
       "      <td>2</td>\n",
       "      <td>1401970764</td>\n",
       "    </tr>\n",
       "    <tr>\n",
       "      <th>0</th>\n",
       "      <td>1535</td>\n",
       "      <td>10</td>\n",
       "      <td>2</td>\n",
       "      <td>1365095869</td>\n",
       "    </tr>\n",
       "  </tbody>\n",
       "</table>\n",
       "</div>"
      ],
      "text/plain": [
       "          anime_id  score  status  created_at\n",
       "username                                     \n",
       "0            12149      8       2  1337262717\n",
       "0            14941      9       2  1365094767\n",
       "0              150     10       2  1401970697\n",
       "0             1482     10       2  1401970764\n",
       "0             1535     10       2  1365095869"
      ]
     },
     "execution_count": 22,
     "metadata": {},
     "output_type": "execute_result"
    }
   ],
   "source": [
    "a.head()"
   ]
  },
  {
   "attachments": {},
   "cell_type": "markdown",
   "metadata": {},
   "source": [
    "### Remap items and store original item -> new item mapping in csv"
   ]
  },
  {
   "cell_type": "code",
   "execution_count": 23,
   "metadata": {},
   "outputs": [
    {
     "data": {
      "text/plain": [
       "(10654, 2)"
      ]
     },
     "execution_count": 23,
     "metadata": {},
     "output_type": "execute_result"
    }
   ],
   "source": [
    "# b = pd.DataFrame(a.loc[:,\"anime_id\"])\n",
    "\n",
    "uniques = a['anime_id'].unique()\n",
    "mapper = dict(zip(uniques,range(len(uniques))))\n",
    "# d = a['anime_id'].map(mapper)\n",
    "# b['train_id'] = d\n",
    "\n",
    "c = pd.DataFrame(zip(uniques,[*range(len(uniques))]),columns=['item_id','train_id'])\n",
    "c.to_csv(\"item_map.csv\",index=False)\n",
    "a['anime_id'] = a['anime_id'].map(mapper)\n",
    "# a.head()\n",
    "c.shape"
   ]
  },
  {
   "cell_type": "code",
   "execution_count": 24,
   "metadata": {},
   "outputs": [],
   "source": [
    "e = a.groupby(\"username\",sort=False)[\"score\"]\n",
    "f = e.transform(pd.Series.median)"
   ]
  },
  {
   "cell_type": "code",
   "execution_count": 25,
   "metadata": {},
   "outputs": [],
   "source": [
    "del b,c,mapper\n",
    "a = a[(f>0)& (f<10)]"
   ]
  },
  {
   "cell_type": "code",
   "execution_count": 26,
   "metadata": {},
   "outputs": [],
   "source": [
    "e = a.groupby(\"username\",sort=False)[\"score\"]\n",
    "g = e.transform(pd.Series.quantile,q=0.25,interpolation=\"nearest\")"
   ]
  },
  {
   "cell_type": "code",
   "execution_count": 27,
   "metadata": {},
   "outputs": [
    {
     "data": {
      "text/plain": [
       "0.83834687187064"
      ]
     },
     "execution_count": 27,
     "metadata": {},
     "output_type": "execute_result"
    }
   ],
   "source": [
    "(g>0).sum()/len(g)"
   ]
  },
  {
   "cell_type": "code",
   "execution_count": 28,
   "metadata": {},
   "outputs": [],
   "source": [
    "a = a[(g>0)]"
   ]
  },
  {
   "cell_type": "code",
   "execution_count": 29,
   "metadata": {},
   "outputs": [],
   "source": [
    "import numpy as np\n"
   ]
  },
  {
   "cell_type": "code",
   "execution_count": 30,
   "metadata": {},
   "outputs": [],
   "source": [
    "e = a.groupby(\"username\",sort=False)[\"score\"]\n",
    "f = e.transform(pd.Series.median)\n",
    "a['train_label'] = 0\n",
    "a['train_label'] += np.bitwise_and((a['score']-f)>0, a['status']<=3)"
   ]
  },
  {
   "cell_type": "code",
   "execution_count": 31,
   "metadata": {},
   "outputs": [
    {
     "data": {
      "text/html": [
       "<div>\n",
       "<style scoped>\n",
       "    .dataframe tbody tr th:only-of-type {\n",
       "        vertical-align: middle;\n",
       "    }\n",
       "\n",
       "    .dataframe tbody tr th {\n",
       "        vertical-align: top;\n",
       "    }\n",
       "\n",
       "    .dataframe thead th {\n",
       "        text-align: right;\n",
       "    }\n",
       "</style>\n",
       "<table border=\"1\" class=\"dataframe\">\n",
       "  <thead>\n",
       "    <tr style=\"text-align: right;\">\n",
       "      <th></th>\n",
       "      <th>anime_id</th>\n",
       "      <th>score</th>\n",
       "      <th>status</th>\n",
       "      <th>created_at</th>\n",
       "      <th>train_label</th>\n",
       "    </tr>\n",
       "    <tr>\n",
       "      <th>username</th>\n",
       "      <th></th>\n",
       "      <th></th>\n",
       "      <th></th>\n",
       "      <th></th>\n",
       "      <th></th>\n",
       "    </tr>\n",
       "  </thead>\n",
       "  <tbody>\n",
       "    <tr>\n",
       "      <th>2</th>\n",
       "      <td>323</td>\n",
       "      <td>7</td>\n",
       "      <td>1</td>\n",
       "      <td>0</td>\n",
       "      <td>0</td>\n",
       "    </tr>\n",
       "    <tr>\n",
       "      <th>2</th>\n",
       "      <td>324</td>\n",
       "      <td>7</td>\n",
       "      <td>1</td>\n",
       "      <td>0</td>\n",
       "      <td>0</td>\n",
       "    </tr>\n",
       "    <tr>\n",
       "      <th>2</th>\n",
       "      <td>325</td>\n",
       "      <td>0</td>\n",
       "      <td>1</td>\n",
       "      <td>0</td>\n",
       "      <td>0</td>\n",
       "    </tr>\n",
       "    <tr>\n",
       "      <th>2</th>\n",
       "      <td>326</td>\n",
       "      <td>0</td>\n",
       "      <td>1</td>\n",
       "      <td>0</td>\n",
       "      <td>0</td>\n",
       "    </tr>\n",
       "    <tr>\n",
       "      <th>2</th>\n",
       "      <td>327</td>\n",
       "      <td>7</td>\n",
       "      <td>1</td>\n",
       "      <td>0</td>\n",
       "      <td>0</td>\n",
       "    </tr>\n",
       "    <tr>\n",
       "      <th>2</th>\n",
       "      <td>328</td>\n",
       "      <td>8</td>\n",
       "      <td>1</td>\n",
       "      <td>0</td>\n",
       "      <td>1</td>\n",
       "    </tr>\n",
       "    <tr>\n",
       "      <th>2</th>\n",
       "      <td>329</td>\n",
       "      <td>9</td>\n",
       "      <td>1</td>\n",
       "      <td>0</td>\n",
       "      <td>1</td>\n",
       "    </tr>\n",
       "    <tr>\n",
       "      <th>2</th>\n",
       "      <td>330</td>\n",
       "      <td>8</td>\n",
       "      <td>2</td>\n",
       "      <td>0</td>\n",
       "      <td>1</td>\n",
       "    </tr>\n",
       "    <tr>\n",
       "      <th>2</th>\n",
       "      <td>77</td>\n",
       "      <td>8</td>\n",
       "      <td>2</td>\n",
       "      <td>0</td>\n",
       "      <td>1</td>\n",
       "    </tr>\n",
       "    <tr>\n",
       "      <th>2</th>\n",
       "      <td>331</td>\n",
       "      <td>8</td>\n",
       "      <td>2</td>\n",
       "      <td>0</td>\n",
       "      <td>1</td>\n",
       "    </tr>\n",
       "    <tr>\n",
       "      <th>2</th>\n",
       "      <td>332</td>\n",
       "      <td>8</td>\n",
       "      <td>2</td>\n",
       "      <td>0</td>\n",
       "      <td>1</td>\n",
       "    </tr>\n",
       "    <tr>\n",
       "      <th>2</th>\n",
       "      <td>333</td>\n",
       "      <td>7</td>\n",
       "      <td>2</td>\n",
       "      <td>0</td>\n",
       "      <td>0</td>\n",
       "    </tr>\n",
       "    <tr>\n",
       "      <th>2</th>\n",
       "      <td>334</td>\n",
       "      <td>9</td>\n",
       "      <td>2</td>\n",
       "      <td>0</td>\n",
       "      <td>1</td>\n",
       "    </tr>\n",
       "    <tr>\n",
       "      <th>2</th>\n",
       "      <td>335</td>\n",
       "      <td>7</td>\n",
       "      <td>2</td>\n",
       "      <td>0</td>\n",
       "      <td>0</td>\n",
       "    </tr>\n",
       "    <tr>\n",
       "      <th>2</th>\n",
       "      <td>336</td>\n",
       "      <td>6</td>\n",
       "      <td>2</td>\n",
       "      <td>0</td>\n",
       "      <td>0</td>\n",
       "    </tr>\n",
       "  </tbody>\n",
       "</table>\n",
       "</div>"
      ],
      "text/plain": [
       "          anime_id  score  status  created_at  train_label\n",
       "username                                                  \n",
       "2              323      7       1           0            0\n",
       "2              324      7       1           0            0\n",
       "2              325      0       1           0            0\n",
       "2              326      0       1           0            0\n",
       "2              327      7       1           0            0\n",
       "2              328      8       1           0            1\n",
       "2              329      9       1           0            1\n",
       "2              330      8       2           0            1\n",
       "2               77      8       2           0            1\n",
       "2              331      8       2           0            1\n",
       "2              332      8       2           0            1\n",
       "2              333      7       2           0            0\n",
       "2              334      9       2           0            1\n",
       "2              335      7       2           0            0\n",
       "2              336      6       2           0            0"
      ]
     },
     "execution_count": 31,
     "metadata": {},
     "output_type": "execute_result"
    }
   ],
   "source": [
    "a.head(n=15)"
   ]
  },
  {
   "cell_type": "code",
   "execution_count": 32,
   "metadata": {},
   "outputs": [
    {
     "ename": "KeyError",
     "evalue": "\"['index'] not found in axis\"",
     "output_type": "error",
     "traceback": [
      "\u001b[1;31m---------------------------------------------------------------------------\u001b[0m",
      "\u001b[1;31mKeyError\u001b[0m                                  Traceback (most recent call last)",
      "Cell \u001b[1;32mIn[32], line 1\u001b[0m\n\u001b[1;32m----> 1\u001b[0m a\u001b[39m.\u001b[39;49mdrop(columns\u001b[39m=\u001b[39;49m[\u001b[39m'\u001b[39;49m\u001b[39mindex\u001b[39;49m\u001b[39m'\u001b[39;49m],inplace\u001b[39m=\u001b[39;49m\u001b[39mTrue\u001b[39;49;00m)\n",
      "File \u001b[1;32mc:\\Users\\dtrag\\AppData\\Local\\Programs\\Python\\Python38\\lib\\site-packages\\pandas\\util\\_decorators.py:331\u001b[0m, in \u001b[0;36mdeprecate_nonkeyword_arguments.<locals>.decorate.<locals>.wrapper\u001b[1;34m(*args, **kwargs)\u001b[0m\n\u001b[0;32m    325\u001b[0m \u001b[39mif\u001b[39;00m \u001b[39mlen\u001b[39m(args) \u001b[39m>\u001b[39m num_allow_args:\n\u001b[0;32m    326\u001b[0m     warnings\u001b[39m.\u001b[39mwarn(\n\u001b[0;32m    327\u001b[0m         msg\u001b[39m.\u001b[39mformat(arguments\u001b[39m=\u001b[39m_format_argument_list(allow_args)),\n\u001b[0;32m    328\u001b[0m         \u001b[39mFutureWarning\u001b[39;00m,\n\u001b[0;32m    329\u001b[0m         stacklevel\u001b[39m=\u001b[39mfind_stack_level(),\n\u001b[0;32m    330\u001b[0m     )\n\u001b[1;32m--> 331\u001b[0m \u001b[39mreturn\u001b[39;00m func(\u001b[39m*\u001b[39;49margs, \u001b[39m*\u001b[39;49m\u001b[39m*\u001b[39;49mkwargs)\n",
      "File \u001b[1;32mc:\\Users\\dtrag\\AppData\\Local\\Programs\\Python\\Python38\\lib\\site-packages\\pandas\\core\\frame.py:5396\u001b[0m, in \u001b[0;36mDataFrame.drop\u001b[1;34m(self, labels, axis, index, columns, level, inplace, errors)\u001b[0m\n\u001b[0;32m   5248\u001b[0m \u001b[39m@deprecate_nonkeyword_arguments\u001b[39m(version\u001b[39m=\u001b[39m\u001b[39mNone\u001b[39;00m, allowed_args\u001b[39m=\u001b[39m[\u001b[39m\"\u001b[39m\u001b[39mself\u001b[39m\u001b[39m\"\u001b[39m, \u001b[39m\"\u001b[39m\u001b[39mlabels\u001b[39m\u001b[39m\"\u001b[39m])\n\u001b[0;32m   5249\u001b[0m \u001b[39mdef\u001b[39;00m \u001b[39mdrop\u001b[39m(  \u001b[39m# type: ignore[override]\u001b[39;00m\n\u001b[0;32m   5250\u001b[0m     \u001b[39mself\u001b[39m,\n\u001b[1;32m   (...)\u001b[0m\n\u001b[0;32m   5257\u001b[0m     errors: IgnoreRaise \u001b[39m=\u001b[39m \u001b[39m\"\u001b[39m\u001b[39mraise\u001b[39m\u001b[39m\"\u001b[39m,\n\u001b[0;32m   5258\u001b[0m ) \u001b[39m-\u001b[39m\u001b[39m>\u001b[39m DataFrame \u001b[39m|\u001b[39m \u001b[39mNone\u001b[39;00m:\n\u001b[0;32m   5259\u001b[0m     \u001b[39m\"\"\"\u001b[39;00m\n\u001b[0;32m   5260\u001b[0m \u001b[39m    Drop specified labels from rows or columns.\u001b[39;00m\n\u001b[0;32m   5261\u001b[0m \n\u001b[1;32m   (...)\u001b[0m\n\u001b[0;32m   5394\u001b[0m \u001b[39m            weight  1.0     0.8\u001b[39;00m\n\u001b[0;32m   5395\u001b[0m \u001b[39m    \"\"\"\u001b[39;00m\n\u001b[1;32m-> 5396\u001b[0m     \u001b[39mreturn\u001b[39;00m \u001b[39msuper\u001b[39;49m()\u001b[39m.\u001b[39;49mdrop(\n\u001b[0;32m   5397\u001b[0m         labels\u001b[39m=\u001b[39;49mlabels,\n\u001b[0;32m   5398\u001b[0m         axis\u001b[39m=\u001b[39;49maxis,\n\u001b[0;32m   5399\u001b[0m         index\u001b[39m=\u001b[39;49mindex,\n\u001b[0;32m   5400\u001b[0m         columns\u001b[39m=\u001b[39;49mcolumns,\n\u001b[0;32m   5401\u001b[0m         level\u001b[39m=\u001b[39;49mlevel,\n\u001b[0;32m   5402\u001b[0m         inplace\u001b[39m=\u001b[39;49minplace,\n\u001b[0;32m   5403\u001b[0m         errors\u001b[39m=\u001b[39;49merrors,\n\u001b[0;32m   5404\u001b[0m     )\n",
      "File \u001b[1;32mc:\\Users\\dtrag\\AppData\\Local\\Programs\\Python\\Python38\\lib\\site-packages\\pandas\\util\\_decorators.py:331\u001b[0m, in \u001b[0;36mdeprecate_nonkeyword_arguments.<locals>.decorate.<locals>.wrapper\u001b[1;34m(*args, **kwargs)\u001b[0m\n\u001b[0;32m    325\u001b[0m \u001b[39mif\u001b[39;00m \u001b[39mlen\u001b[39m(args) \u001b[39m>\u001b[39m num_allow_args:\n\u001b[0;32m    326\u001b[0m     warnings\u001b[39m.\u001b[39mwarn(\n\u001b[0;32m    327\u001b[0m         msg\u001b[39m.\u001b[39mformat(arguments\u001b[39m=\u001b[39m_format_argument_list(allow_args)),\n\u001b[0;32m    328\u001b[0m         \u001b[39mFutureWarning\u001b[39;00m,\n\u001b[0;32m    329\u001b[0m         stacklevel\u001b[39m=\u001b[39mfind_stack_level(),\n\u001b[0;32m    330\u001b[0m     )\n\u001b[1;32m--> 331\u001b[0m \u001b[39mreturn\u001b[39;00m func(\u001b[39m*\u001b[39;49margs, \u001b[39m*\u001b[39;49m\u001b[39m*\u001b[39;49mkwargs)\n",
      "File \u001b[1;32mc:\\Users\\dtrag\\AppData\\Local\\Programs\\Python\\Python38\\lib\\site-packages\\pandas\\core\\generic.py:4505\u001b[0m, in \u001b[0;36mNDFrame.drop\u001b[1;34m(self, labels, axis, index, columns, level, inplace, errors)\u001b[0m\n\u001b[0;32m   4503\u001b[0m \u001b[39mfor\u001b[39;00m axis, labels \u001b[39min\u001b[39;00m axes\u001b[39m.\u001b[39mitems():\n\u001b[0;32m   4504\u001b[0m     \u001b[39mif\u001b[39;00m labels \u001b[39mis\u001b[39;00m \u001b[39mnot\u001b[39;00m \u001b[39mNone\u001b[39;00m:\n\u001b[1;32m-> 4505\u001b[0m         obj \u001b[39m=\u001b[39m obj\u001b[39m.\u001b[39;49m_drop_axis(labels, axis, level\u001b[39m=\u001b[39;49mlevel, errors\u001b[39m=\u001b[39;49merrors)\n\u001b[0;32m   4507\u001b[0m \u001b[39mif\u001b[39;00m inplace:\n\u001b[0;32m   4508\u001b[0m     \u001b[39mself\u001b[39m\u001b[39m.\u001b[39m_update_inplace(obj)\n",
      "File \u001b[1;32mc:\\Users\\dtrag\\AppData\\Local\\Programs\\Python\\Python38\\lib\\site-packages\\pandas\\core\\generic.py:4546\u001b[0m, in \u001b[0;36mNDFrame._drop_axis\u001b[1;34m(self, labels, axis, level, errors, only_slice)\u001b[0m\n\u001b[0;32m   4544\u001b[0m         new_axis \u001b[39m=\u001b[39m axis\u001b[39m.\u001b[39mdrop(labels, level\u001b[39m=\u001b[39mlevel, errors\u001b[39m=\u001b[39merrors)\n\u001b[0;32m   4545\u001b[0m     \u001b[39melse\u001b[39;00m:\n\u001b[1;32m-> 4546\u001b[0m         new_axis \u001b[39m=\u001b[39m axis\u001b[39m.\u001b[39;49mdrop(labels, errors\u001b[39m=\u001b[39;49merrors)\n\u001b[0;32m   4547\u001b[0m     indexer \u001b[39m=\u001b[39m axis\u001b[39m.\u001b[39mget_indexer(new_axis)\n\u001b[0;32m   4549\u001b[0m \u001b[39m# Case for non-unique axis\u001b[39;00m\n\u001b[0;32m   4550\u001b[0m \u001b[39melse\u001b[39;00m:\n",
      "File \u001b[1;32mc:\\Users\\dtrag\\AppData\\Local\\Programs\\Python\\Python38\\lib\\site-packages\\pandas\\core\\indexes\\base.py:6977\u001b[0m, in \u001b[0;36mIndex.drop\u001b[1;34m(self, labels, errors)\u001b[0m\n\u001b[0;32m   6975\u001b[0m \u001b[39mif\u001b[39;00m mask\u001b[39m.\u001b[39many():\n\u001b[0;32m   6976\u001b[0m     \u001b[39mif\u001b[39;00m errors \u001b[39m!=\u001b[39m \u001b[39m\"\u001b[39m\u001b[39mignore\u001b[39m\u001b[39m\"\u001b[39m:\n\u001b[1;32m-> 6977\u001b[0m         \u001b[39mraise\u001b[39;00m \u001b[39mKeyError\u001b[39;00m(\u001b[39mf\u001b[39m\u001b[39m\"\u001b[39m\u001b[39m{\u001b[39;00m\u001b[39mlist\u001b[39m(labels[mask])\u001b[39m}\u001b[39;00m\u001b[39m not found in axis\u001b[39m\u001b[39m\"\u001b[39m)\n\u001b[0;32m   6978\u001b[0m     indexer \u001b[39m=\u001b[39m indexer[\u001b[39m~\u001b[39mmask]\n\u001b[0;32m   6979\u001b[0m \u001b[39mreturn\u001b[39;00m \u001b[39mself\u001b[39m\u001b[39m.\u001b[39mdelete(indexer)\n",
      "\u001b[1;31mKeyError\u001b[0m: \"['index'] not found in axis\""
     ]
    }
   ],
   "source": [
    "a.drop(columns=['index'],inplace=True)"
   ]
  },
  {
   "cell_type": "code",
   "execution_count": null,
   "metadata": {},
   "outputs": [],
   "source": [
    "a.reset_index().to_feather(\"ratings5_processed.feather\")"
   ]
  },
  {
   "cell_type": "code",
   "execution_count": 34,
   "metadata": {},
   "outputs": [],
   "source": [
    "groups = a.groupby(\"username\",sort=False)\n",
    "diff = lambda x: x.max()-x.min()\n",
    "diff2 = lambda x: (x.shift(1,fill_value=x.iloc[0])-x).mean()\n"
   ]
  },
  {
   "cell_type": "code",
   "execution_count": 23,
   "metadata": {},
   "outputs": [
    {
     "data": {
      "text/plain": [
       "anime_id       6\n",
       "score          6\n",
       "status         6\n",
       "created_at     6\n",
       "train_label    6\n",
       "dtype: int64"
      ]
     },
     "execution_count": 23,
     "metadata": {},
     "output_type": "execute_result"
    }
   ],
   "source": [
    "groups.count().min() # 6 is good"
   ]
  },
  {
   "cell_type": "code",
   "execution_count": 36,
   "metadata": {},
   "outputs": [],
   "source": [
    "column_funcs = {'created_at': [lambda x: diff(x),lambda x: diff2(x),pd.Series.count,pd.Series.std],\"score\":[pd.Series.mean,pd.Series.std]}\n",
    "time_stats = groups.agg(column_funcs)"
   ]
  },
  {
   "cell_type": "code",
   "execution_count": 73,
   "metadata": {},
   "outputs": [
    {
     "data": {
      "text/html": [
       "<div>\n",
       "<style scoped>\n",
       "    .dataframe tbody tr th:only-of-type {\n",
       "        vertical-align: middle;\n",
       "    }\n",
       "\n",
       "    .dataframe tbody tr th {\n",
       "        vertical-align: top;\n",
       "    }\n",
       "\n",
       "    .dataframe thead th {\n",
       "        text-align: right;\n",
       "    }\n",
       "</style>\n",
       "<table border=\"1\" class=\"dataframe\">\n",
       "  <thead>\n",
       "    <tr style=\"text-align: right;\">\n",
       "      <th></th>\n",
       "      <th>anime_id</th>\n",
       "      <th>score</th>\n",
       "      <th>status</th>\n",
       "      <th>created_at</th>\n",
       "      <th>train_label</th>\n",
       "    </tr>\n",
       "    <tr>\n",
       "      <th>username</th>\n",
       "      <th></th>\n",
       "      <th></th>\n",
       "      <th></th>\n",
       "      <th></th>\n",
       "      <th></th>\n",
       "    </tr>\n",
       "  </thead>\n",
       "  <tbody>\n",
       "    <tr>\n",
       "      <th>108</th>\n",
       "      <td>411</td>\n",
       "      <td>8</td>\n",
       "      <td>2</td>\n",
       "      <td>0</td>\n",
       "      <td>0</td>\n",
       "    </tr>\n",
       "    <tr>\n",
       "      <th>108</th>\n",
       "      <td>1044</td>\n",
       "      <td>8</td>\n",
       "      <td>2</td>\n",
       "      <td>0</td>\n",
       "      <td>0</td>\n",
       "    </tr>\n",
       "    <tr>\n",
       "      <th>108</th>\n",
       "      <td>340</td>\n",
       "      <td>0</td>\n",
       "      <td>3</td>\n",
       "      <td>0</td>\n",
       "      <td>0</td>\n",
       "    </tr>\n",
       "    <tr>\n",
       "      <th>108</th>\n",
       "      <td>1718</td>\n",
       "      <td>0</td>\n",
       "      <td>3</td>\n",
       "      <td>0</td>\n",
       "      <td>0</td>\n",
       "    </tr>\n",
       "    <tr>\n",
       "      <th>108</th>\n",
       "      <td>1524</td>\n",
       "      <td>0</td>\n",
       "      <td>3</td>\n",
       "      <td>0</td>\n",
       "      <td>0</td>\n",
       "    </tr>\n",
       "  </tbody>\n",
       "</table>\n",
       "</div>"
      ],
      "text/plain": [
       "          anime_id  score  status  created_at  train_label\n",
       "username                                                  \n",
       "108            411      8       2           0            0\n",
       "108           1044      8       2           0            0\n",
       "108            340      0       3           0            0\n",
       "108           1718      0       3           0            0\n",
       "108           1524      0       3           0            0"
      ]
     },
     "execution_count": 73,
     "metadata": {},
     "output_type": "execute_result"
    }
   ],
   "source": [
    "a[a.index==108].tail()"
   ]
  },
  {
   "cell_type": "code",
   "execution_count": 56,
   "metadata": {},
   "outputs": [
    {
     "data": {
      "text/html": [
       "<div>\n",
       "<style scoped>\n",
       "    .dataframe tbody tr th:only-of-type {\n",
       "        vertical-align: middle;\n",
       "    }\n",
       "\n",
       "    .dataframe tbody tr th {\n",
       "        vertical-align: top;\n",
       "    }\n",
       "\n",
       "    .dataframe thead tr th {\n",
       "        text-align: left;\n",
       "    }\n",
       "\n",
       "    .dataframe thead tr:last-of-type th {\n",
       "        text-align: right;\n",
       "    }\n",
       "</style>\n",
       "<table border=\"1\" class=\"dataframe\">\n",
       "  <thead>\n",
       "    <tr>\n",
       "      <th></th>\n",
       "      <th colspan=\"4\" halign=\"left\">created_at</th>\n",
       "      <th colspan=\"2\" halign=\"left\">score</th>\n",
       "    </tr>\n",
       "    <tr>\n",
       "      <th></th>\n",
       "      <th>&lt;lambda_0&gt;</th>\n",
       "      <th>&lt;lambda_1&gt;</th>\n",
       "      <th>count</th>\n",
       "      <th>std</th>\n",
       "      <th>mean</th>\n",
       "      <th>std</th>\n",
       "    </tr>\n",
       "    <tr>\n",
       "      <th>username</th>\n",
       "      <th></th>\n",
       "      <th></th>\n",
       "      <th></th>\n",
       "      <th></th>\n",
       "      <th></th>\n",
       "      <th></th>\n",
       "    </tr>\n",
       "  </thead>\n",
       "  <tbody>\n",
       "    <tr>\n",
       "      <th>2</th>\n",
       "      <td>0</td>\n",
       "      <td>0.000000</td>\n",
       "      <td>127</td>\n",
       "      <td>0.000000e+00</td>\n",
       "      <td>6.929134</td>\n",
       "      <td>2.086164</td>\n",
       "    </tr>\n",
       "    <tr>\n",
       "      <th>5</th>\n",
       "      <td>50784357</td>\n",
       "      <td>-4361.058394</td>\n",
       "      <td>137</td>\n",
       "      <td>1.708781e+07</td>\n",
       "      <td>7.459854</td>\n",
       "      <td>1.514705</td>\n",
       "    </tr>\n",
       "    <tr>\n",
       "      <th>6</th>\n",
       "      <td>192273697</td>\n",
       "      <td>563525.479167</td>\n",
       "      <td>96</td>\n",
       "      <td>4.836136e+07</td>\n",
       "      <td>7.500000</td>\n",
       "      <td>2.082509</td>\n",
       "    </tr>\n",
       "    <tr>\n",
       "      <th>8</th>\n",
       "      <td>85817504</td>\n",
       "      <td>-157390.372093</td>\n",
       "      <td>172</td>\n",
       "      <td>2.406463e+07</td>\n",
       "      <td>7.924419</td>\n",
       "      <td>1.816135</td>\n",
       "    </tr>\n",
       "    <tr>\n",
       "      <th>9</th>\n",
       "      <td>9749346</td>\n",
       "      <td>255861.240000</td>\n",
       "      <td>25</td>\n",
       "      <td>3.303754e+06</td>\n",
       "      <td>7.040000</td>\n",
       "      <td>2.791057</td>\n",
       "    </tr>\n",
       "  </tbody>\n",
       "</table>\n",
       "</div>"
      ],
      "text/plain": [
       "         created_at                                        score          \n",
       "         <lambda_0>     <lambda_1> count           std      mean       std\n",
       "username                                                                  \n",
       "2                 0       0.000000   127  0.000000e+00  6.929134  2.086164\n",
       "5          50784357   -4361.058394   137  1.708781e+07  7.459854  1.514705\n",
       "6         192273697  563525.479167    96  4.836136e+07  7.500000  2.082509\n",
       "8          85817504 -157390.372093   172  2.406463e+07  7.924419  1.816135\n",
       "9           9749346  255861.240000    25  3.303754e+06  7.040000  2.791057"
      ]
     },
     "execution_count": 56,
     "metadata": {},
     "output_type": "execute_result"
    }
   ],
   "source": [
    "time_stats.head()"
   ]
  },
  {
   "cell_type": "code",
   "execution_count": 57,
   "metadata": {},
   "outputs": [],
   "source": [
    "time_stats.columns = time_stats.columns.get_level_values(1)"
   ]
  },
  {
   "cell_type": "code",
   "execution_count": 68,
   "metadata": {},
   "outputs": [
    {
     "data": {
      "text/html": [
       "<div>\n",
       "<style scoped>\n",
       "    .dataframe tbody tr th:only-of-type {\n",
       "        vertical-align: middle;\n",
       "    }\n",
       "\n",
       "    .dataframe tbody tr th {\n",
       "        vertical-align: top;\n",
       "    }\n",
       "\n",
       "    .dataframe thead th {\n",
       "        text-align: right;\n",
       "    }\n",
       "</style>\n",
       "<table border=\"1\" class=\"dataframe\">\n",
       "  <thead>\n",
       "    <tr style=\"text-align: right;\">\n",
       "      <th></th>\n",
       "      <th>range</th>\n",
       "      <th>time_diffs</th>\n",
       "      <th>count</th>\n",
       "      <th>std</th>\n",
       "      <th>mean</th>\n",
       "      <th>std</th>\n",
       "    </tr>\n",
       "    <tr>\n",
       "      <th>username</th>\n",
       "      <th></th>\n",
       "      <th></th>\n",
       "      <th></th>\n",
       "      <th></th>\n",
       "      <th></th>\n",
       "      <th></th>\n",
       "    </tr>\n",
       "  </thead>\n",
       "  <tbody>\n",
       "    <tr>\n",
       "      <th>2</th>\n",
       "      <td>0</td>\n",
       "      <td>0.000000</td>\n",
       "      <td>127</td>\n",
       "      <td>0.000000e+00</td>\n",
       "      <td>6.929134</td>\n",
       "      <td>2.086164</td>\n",
       "    </tr>\n",
       "    <tr>\n",
       "      <th>5</th>\n",
       "      <td>50784357</td>\n",
       "      <td>-4361.058394</td>\n",
       "      <td>137</td>\n",
       "      <td>1.708781e+07</td>\n",
       "      <td>7.459854</td>\n",
       "      <td>1.514705</td>\n",
       "    </tr>\n",
       "    <tr>\n",
       "      <th>6</th>\n",
       "      <td>192273697</td>\n",
       "      <td>563525.479167</td>\n",
       "      <td>96</td>\n",
       "      <td>4.836136e+07</td>\n",
       "      <td>7.500000</td>\n",
       "      <td>2.082509</td>\n",
       "    </tr>\n",
       "    <tr>\n",
       "      <th>8</th>\n",
       "      <td>85817504</td>\n",
       "      <td>-157390.372093</td>\n",
       "      <td>172</td>\n",
       "      <td>2.406463e+07</td>\n",
       "      <td>7.924419</td>\n",
       "      <td>1.816135</td>\n",
       "    </tr>\n",
       "    <tr>\n",
       "      <th>9</th>\n",
       "      <td>9749346</td>\n",
       "      <td>255861.240000</td>\n",
       "      <td>25</td>\n",
       "      <td>3.303754e+06</td>\n",
       "      <td>7.040000</td>\n",
       "      <td>2.791057</td>\n",
       "    </tr>\n",
       "  </tbody>\n",
       "</table>\n",
       "</div>"
      ],
      "text/plain": [
       "              range     time_diffs  count           std      mean       std\n",
       "username                                                                   \n",
       "2                 0       0.000000    127  0.000000e+00  6.929134  2.086164\n",
       "5          50784357   -4361.058394    137  1.708781e+07  7.459854  1.514705\n",
       "6         192273697  563525.479167     96  4.836136e+07  7.500000  2.082509\n",
       "8          85817504 -157390.372093    172  2.406463e+07  7.924419  1.816135\n",
       "9           9749346  255861.240000     25  3.303754e+06  7.040000  2.791057"
      ]
     },
     "execution_count": 68,
     "metadata": {},
     "output_type": "execute_result"
    }
   ],
   "source": [
    "time_stats.rename(columns={'<lambda_0>':'range','<lambda_1>':'time_diffs'},inplace=True)\n",
    "time_stats.head()"
   ]
  },
  {
   "cell_type": "code",
   "execution_count": 74,
   "metadata": {},
   "outputs": [
    {
     "data": {
      "text/html": [
       "<div>\n",
       "<style scoped>\n",
       "    .dataframe tbody tr th:only-of-type {\n",
       "        vertical-align: middle;\n",
       "    }\n",
       "\n",
       "    .dataframe tbody tr th {\n",
       "        vertical-align: top;\n",
       "    }\n",
       "\n",
       "    .dataframe thead th {\n",
       "        text-align: right;\n",
       "    }\n",
       "</style>\n",
       "<table border=\"1\" class=\"dataframe\">\n",
       "  <thead>\n",
       "    <tr style=\"text-align: right;\">\n",
       "      <th></th>\n",
       "      <th>range</th>\n",
       "      <th>time_diffs</th>\n",
       "      <th>count</th>\n",
       "      <th>std</th>\n",
       "      <th>mean</th>\n",
       "      <th>std</th>\n",
       "    </tr>\n",
       "    <tr>\n",
       "      <th>username</th>\n",
       "      <th></th>\n",
       "      <th></th>\n",
       "      <th></th>\n",
       "      <th></th>\n",
       "      <th></th>\n",
       "      <th></th>\n",
       "    </tr>\n",
       "  </thead>\n",
       "  <tbody>\n",
       "    <tr>\n",
       "      <th>2</th>\n",
       "      <td>-0.545736</td>\n",
       "      <td>-0.099782</td>\n",
       "      <td>-0.287913</td>\n",
       "      <td>-0.554695</td>\n",
       "      <td>-0.208274</td>\n",
       "      <td>-0.351096</td>\n",
       "    </tr>\n",
       "    <tr>\n",
       "      <th>5</th>\n",
       "      <td>-0.399935</td>\n",
       "      <td>-0.101894</td>\n",
       "      <td>-0.239512</td>\n",
       "      <td>-0.337434</td>\n",
       "      <td>0.389937</td>\n",
       "      <td>-1.094735</td>\n",
       "    </tr>\n",
       "    <tr>\n",
       "      <th>6</th>\n",
       "      <td>0.006279</td>\n",
       "      <td>0.173112</td>\n",
       "      <td>-0.437954</td>\n",
       "      <td>0.060192</td>\n",
       "      <td>0.435188</td>\n",
       "      <td>-0.355853</td>\n",
       "    </tr>\n",
       "    <tr>\n",
       "      <th>8</th>\n",
       "      <td>-0.299355</td>\n",
       "      <td>-0.176001</td>\n",
       "      <td>-0.070111</td>\n",
       "      <td>-0.248727</td>\n",
       "      <td>0.913579</td>\n",
       "      <td>-0.702484</td>\n",
       "    </tr>\n",
       "    <tr>\n",
       "      <th>9</th>\n",
       "      <td>-0.517745</td>\n",
       "      <td>0.024122</td>\n",
       "      <td>-0.781596</td>\n",
       "      <td>-0.512690</td>\n",
       "      <td>-0.083309</td>\n",
       "      <td>0.566181</td>\n",
       "    </tr>\n",
       "  </tbody>\n",
       "</table>\n",
       "</div>"
      ],
      "text/plain": [
       "             range  time_diffs     count       std      mean       std\n",
       "username                                                              \n",
       "2        -0.545736   -0.099782 -0.287913 -0.554695 -0.208274 -0.351096\n",
       "5        -0.399935   -0.101894 -0.239512 -0.337434  0.389937 -1.094735\n",
       "6         0.006279    0.173112 -0.437954  0.060192  0.435188 -0.355853\n",
       "8        -0.299355   -0.176001 -0.070111 -0.248727  0.913579 -0.702484\n",
       "9        -0.517745    0.024122 -0.781596 -0.512690 -0.083309  0.566181"
      ]
     },
     "execution_count": 74,
     "metadata": {},
     "output_type": "execute_result"
    }
   ],
   "source": [
    "#normalize every column of time_stats\n",
    "time_stats_norm = (time_stats-time_stats.mean())/time_stats.std()\n",
    "time_stats_norm.head()"
   ]
  },
  {
   "cell_type": "code",
   "execution_count": 76,
   "metadata": {},
   "outputs": [],
   "source": [
    "item_popularities = a['anime_id'].value_counts()\n",
    "pop_mean=lambda x: item_popularities[x].mean()\n",
    "pop_std = lambda x: item_popularities[x].std()\n",
    "popularity_stats = groups.agg({\"anime_id\":[pop_mean,pop_std]})"
   ]
  },
  {
   "cell_type": "code",
   "execution_count": 77,
   "metadata": {},
   "outputs": [
    {
     "data": {
      "text/html": [
       "<div>\n",
       "<style scoped>\n",
       "    .dataframe tbody tr th:only-of-type {\n",
       "        vertical-align: middle;\n",
       "    }\n",
       "\n",
       "    .dataframe tbody tr th {\n",
       "        vertical-align: top;\n",
       "    }\n",
       "\n",
       "    .dataframe thead tr th {\n",
       "        text-align: left;\n",
       "    }\n",
       "\n",
       "    .dataframe thead tr:last-of-type th {\n",
       "        text-align: right;\n",
       "    }\n",
       "</style>\n",
       "<table border=\"1\" class=\"dataframe\">\n",
       "  <thead>\n",
       "    <tr>\n",
       "      <th></th>\n",
       "      <th colspan=\"2\" halign=\"left\">anime_id</th>\n",
       "    </tr>\n",
       "    <tr>\n",
       "      <th></th>\n",
       "      <th>&lt;lambda_0&gt;</th>\n",
       "      <th>&lt;lambda_1&gt;</th>\n",
       "    </tr>\n",
       "    <tr>\n",
       "      <th>username</th>\n",
       "      <th></th>\n",
       "      <th></th>\n",
       "    </tr>\n",
       "  </thead>\n",
       "  <tbody>\n",
       "    <tr>\n",
       "      <th>2</th>\n",
       "      <td>107712.031496</td>\n",
       "      <td>76938.692872</td>\n",
       "    </tr>\n",
       "    <tr>\n",
       "      <th>5</th>\n",
       "      <td>145190.635036</td>\n",
       "      <td>105792.059632</td>\n",
       "    </tr>\n",
       "    <tr>\n",
       "      <th>6</th>\n",
       "      <td>151433.958333</td>\n",
       "      <td>126928.904286</td>\n",
       "    </tr>\n",
       "    <tr>\n",
       "      <th>8</th>\n",
       "      <td>63286.732558</td>\n",
       "      <td>67068.216998</td>\n",
       "    </tr>\n",
       "    <tr>\n",
       "      <th>9</th>\n",
       "      <td>102096.800000</td>\n",
       "      <td>131031.882809</td>\n",
       "    </tr>\n",
       "  </tbody>\n",
       "</table>\n",
       "</div>"
      ],
      "text/plain": [
       "               anime_id               \n",
       "             <lambda_0>     <lambda_1>\n",
       "username                              \n",
       "2         107712.031496   76938.692872\n",
       "5         145190.635036  105792.059632\n",
       "6         151433.958333  126928.904286\n",
       "8          63286.732558   67068.216998\n",
       "9         102096.800000  131031.882809"
      ]
     },
     "execution_count": 77,
     "metadata": {},
     "output_type": "execute_result"
    }
   ],
   "source": [
    "popularity_stats.head()"
   ]
  },
  {
   "cell_type": "code",
   "execution_count": 78,
   "metadata": {},
   "outputs": [
    {
     "data": {
      "text/html": [
       "<div>\n",
       "<style scoped>\n",
       "    .dataframe tbody tr th:only-of-type {\n",
       "        vertical-align: middle;\n",
       "    }\n",
       "\n",
       "    .dataframe tbody tr th {\n",
       "        vertical-align: top;\n",
       "    }\n",
       "\n",
       "    .dataframe thead th {\n",
       "        text-align: right;\n",
       "    }\n",
       "</style>\n",
       "<table border=\"1\" class=\"dataframe\">\n",
       "  <thead>\n",
       "    <tr style=\"text-align: right;\">\n",
       "      <th></th>\n",
       "      <th>pop_mean</th>\n",
       "      <th>pop_std</th>\n",
       "    </tr>\n",
       "    <tr>\n",
       "      <th>username</th>\n",
       "      <th></th>\n",
       "      <th></th>\n",
       "    </tr>\n",
       "  </thead>\n",
       "  <tbody>\n",
       "    <tr>\n",
       "      <th>2</th>\n",
       "      <td>107712.031496</td>\n",
       "      <td>76938.692872</td>\n",
       "    </tr>\n",
       "    <tr>\n",
       "      <th>5</th>\n",
       "      <td>145190.635036</td>\n",
       "      <td>105792.059632</td>\n",
       "    </tr>\n",
       "    <tr>\n",
       "      <th>6</th>\n",
       "      <td>151433.958333</td>\n",
       "      <td>126928.904286</td>\n",
       "    </tr>\n",
       "    <tr>\n",
       "      <th>8</th>\n",
       "      <td>63286.732558</td>\n",
       "      <td>67068.216998</td>\n",
       "    </tr>\n",
       "    <tr>\n",
       "      <th>9</th>\n",
       "      <td>102096.800000</td>\n",
       "      <td>131031.882809</td>\n",
       "    </tr>\n",
       "  </tbody>\n",
       "</table>\n",
       "</div>"
      ],
      "text/plain": [
       "               pop_mean        pop_std\n",
       "username                              \n",
       "2         107712.031496   76938.692872\n",
       "5         145190.635036  105792.059632\n",
       "6         151433.958333  126928.904286\n",
       "8          63286.732558   67068.216998\n",
       "9         102096.800000  131031.882809"
      ]
     },
     "execution_count": 78,
     "metadata": {},
     "output_type": "execute_result"
    }
   ],
   "source": [
    "popularity_stats.columns = popularity_stats.columns.get_level_values(1)\n",
    "popularity_stats.rename(columns={'<lambda_0>':'pop_mean','<lambda_1>':'pop_std'},inplace=True)\n",
    "popularity_stats.head()"
   ]
  },
  {
   "cell_type": "code",
   "execution_count": 90,
   "metadata": {},
   "outputs": [
    {
     "data": {
      "text/html": [
       "<div>\n",
       "<style scoped>\n",
       "    .dataframe tbody tr th:only-of-type {\n",
       "        vertical-align: middle;\n",
       "    }\n",
       "\n",
       "    .dataframe tbody tr th {\n",
       "        vertical-align: top;\n",
       "    }\n",
       "\n",
       "    .dataframe thead th {\n",
       "        text-align: right;\n",
       "    }\n",
       "</style>\n",
       "<table border=\"1\" class=\"dataframe\">\n",
       "  <thead>\n",
       "    <tr style=\"text-align: right;\">\n",
       "      <th></th>\n",
       "      <th>range</th>\n",
       "      <th>time_diffs</th>\n",
       "      <th>count</th>\n",
       "      <th>std</th>\n",
       "      <th>mean</th>\n",
       "      <th>std</th>\n",
       "      <th>pop_mean</th>\n",
       "      <th>pop_std</th>\n",
       "    </tr>\n",
       "    <tr>\n",
       "      <th>username</th>\n",
       "      <th></th>\n",
       "      <th></th>\n",
       "      <th></th>\n",
       "      <th></th>\n",
       "      <th></th>\n",
       "      <th></th>\n",
       "      <th></th>\n",
       "      <th></th>\n",
       "    </tr>\n",
       "  </thead>\n",
       "  <tbody>\n",
       "    <tr>\n",
       "      <th>2</th>\n",
       "      <td>0</td>\n",
       "      <td>0.000000</td>\n",
       "      <td>127</td>\n",
       "      <td>0.000000e+00</td>\n",
       "      <td>6.929134</td>\n",
       "      <td>2.086164</td>\n",
       "      <td>107712.031496</td>\n",
       "      <td>76938.692872</td>\n",
       "    </tr>\n",
       "    <tr>\n",
       "      <th>5</th>\n",
       "      <td>50784357</td>\n",
       "      <td>-4361.058394</td>\n",
       "      <td>137</td>\n",
       "      <td>1.708781e+07</td>\n",
       "      <td>7.459854</td>\n",
       "      <td>1.514705</td>\n",
       "      <td>145190.635036</td>\n",
       "      <td>105792.059632</td>\n",
       "    </tr>\n",
       "    <tr>\n",
       "      <th>6</th>\n",
       "      <td>192273697</td>\n",
       "      <td>563525.479167</td>\n",
       "      <td>96</td>\n",
       "      <td>4.836136e+07</td>\n",
       "      <td>7.500000</td>\n",
       "      <td>2.082509</td>\n",
       "      <td>151433.958333</td>\n",
       "      <td>126928.904286</td>\n",
       "    </tr>\n",
       "    <tr>\n",
       "      <th>8</th>\n",
       "      <td>85817504</td>\n",
       "      <td>-157390.372093</td>\n",
       "      <td>172</td>\n",
       "      <td>2.406463e+07</td>\n",
       "      <td>7.924419</td>\n",
       "      <td>1.816135</td>\n",
       "      <td>63286.732558</td>\n",
       "      <td>67068.216998</td>\n",
       "    </tr>\n",
       "    <tr>\n",
       "      <th>9</th>\n",
       "      <td>9749346</td>\n",
       "      <td>255861.240000</td>\n",
       "      <td>25</td>\n",
       "      <td>3.303754e+06</td>\n",
       "      <td>7.040000</td>\n",
       "      <td>2.791057</td>\n",
       "      <td>102096.800000</td>\n",
       "      <td>131031.882809</td>\n",
       "    </tr>\n",
       "  </tbody>\n",
       "</table>\n",
       "</div>"
      ],
      "text/plain": [
       "              range     time_diffs  count           std      mean       std  \\\n",
       "username                                                                      \n",
       "2                 0       0.000000    127  0.000000e+00  6.929134  2.086164   \n",
       "5          50784357   -4361.058394    137  1.708781e+07  7.459854  1.514705   \n",
       "6         192273697  563525.479167     96  4.836136e+07  7.500000  2.082509   \n",
       "8          85817504 -157390.372093    172  2.406463e+07  7.924419  1.816135   \n",
       "9           9749346  255861.240000     25  3.303754e+06  7.040000  2.791057   \n",
       "\n",
       "               pop_mean        pop_std  \n",
       "username                                \n",
       "2         107712.031496   76938.692872  \n",
       "5         145190.635036  105792.059632  \n",
       "6         151433.958333  126928.904286  \n",
       "8          63286.732558   67068.216998  \n",
       "9         102096.800000  131031.882809  "
      ]
     },
     "execution_count": 90,
     "metadata": {},
     "output_type": "execute_result"
    }
   ],
   "source": [
    "all_stats = pd.concat([time_stats,popularity_stats],axis=1)\n",
    "all_stats.head()"
   ]
  },
  {
   "cell_type": "code",
   "execution_count": 91,
   "metadata": {},
   "outputs": [
    {
     "name": "stdout",
     "output_type": "stream",
     "text": [
      "Index(['range', 'time_diffs', 'count', 'time_std', 'mean', 'score_std',\n",
      "       'pop_mean', 'pop_std'],\n",
      "      dtype='object')\n"
     ]
    }
   ],
   "source": [
    "j = 0\n",
    "cols = all_stats.columns.values.copy()\n",
    "for i in range(len(cols)):\n",
    "    if cols[i] == \"std\":\n",
    "        if j:\n",
    "            cols[i] = \"score_std\"\n",
    "        else:\n",
    "            cols[i] = \"time_std\"\n",
    "        j+= 1\n",
    "all_stats.columns = cols\n",
    "print(all_stats.columns)\n",
    "        "
   ]
  },
  {
   "cell_type": "code",
   "execution_count": 92,
   "metadata": {},
   "outputs": [],
   "source": [
    "all_stats.reset_index().to_feather(\"user_stats.feather\")"
   ]
  },
  {
   "cell_type": "code",
   "execution_count": null,
   "metadata": {},
   "outputs": [
    {
     "ename": "MemoryError",
     "evalue": "Unable to allocate 973. MiB for an array with shape (255189804,) and data type int32",
     "output_type": "error",
     "traceback": [
      "\u001b[1;31m---------------------------------------------------------------------------\u001b[0m",
      "\u001b[1;31mMemoryError\u001b[0m                               Traceback (most recent call last)",
      "Cell \u001b[1;32mIn[29], line 1\u001b[0m\n\u001b[1;32m----> 1\u001b[0m e \u001b[39m=\u001b[39m a\u001b[39m.\u001b[39;49mgroupby(\u001b[39m\"\u001b[39;49m\u001b[39musername\u001b[39;49m\u001b[39m\"\u001b[39;49m,sort\u001b[39m=\u001b[39;49m\u001b[39mFalse\u001b[39;49;00m)[\u001b[39m\"\u001b[39;49m\u001b[39mscore\u001b[39;49m\u001b[39m\"\u001b[39;49m]\u001b[39m.\u001b[39;49mtransform(pd\u001b[39m.\u001b[39;49mSeries\u001b[39m.\u001b[39;49mmean)\n\u001b[0;32m      2\u001b[0m a \u001b[39m=\u001b[39m a[(e\u001b[39m>\u001b[39m\u001b[39m0\u001b[39m)\u001b[39m&\u001b[39m (e\u001b[39m<\u001b[39m\u001b[39m10\u001b[39m)] \u001b[39m#(a['score'] >= e) & \u001b[39;00m\n\u001b[0;32m      3\u001b[0m a\u001b[39m.\u001b[39mshape\n",
      "File \u001b[1;32mc:\\Users\\dtrag\\AppData\\Local\\Programs\\Python\\Python38\\lib\\site-packages\\pandas\\core\\groupby\\generic.py:445\u001b[0m, in \u001b[0;36mSeriesGroupBy.transform\u001b[1;34m(self, func, engine, engine_kwargs, *args, **kwargs)\u001b[0m\n\u001b[0;32m    442\u001b[0m \u001b[39m@Substitution\u001b[39m(klass\u001b[39m=\u001b[39m\u001b[39m\"\u001b[39m\u001b[39mSeries\u001b[39m\u001b[39m\"\u001b[39m)\n\u001b[0;32m    443\u001b[0m \u001b[39m@Appender\u001b[39m(_transform_template)\n\u001b[0;32m    444\u001b[0m \u001b[39mdef\u001b[39;00m \u001b[39mtransform\u001b[39m(\u001b[39mself\u001b[39m, func, \u001b[39m*\u001b[39margs, engine\u001b[39m=\u001b[39m\u001b[39mNone\u001b[39;00m, engine_kwargs\u001b[39m=\u001b[39m\u001b[39mNone\u001b[39;00m, \u001b[39m*\u001b[39m\u001b[39m*\u001b[39mkwargs):\n\u001b[1;32m--> 445\u001b[0m     \u001b[39mreturn\u001b[39;00m \u001b[39mself\u001b[39;49m\u001b[39m.\u001b[39;49m_transform(\n\u001b[0;32m    446\u001b[0m         func, \u001b[39m*\u001b[39;49margs, engine\u001b[39m=\u001b[39;49mengine, engine_kwargs\u001b[39m=\u001b[39;49mengine_kwargs, \u001b[39m*\u001b[39;49m\u001b[39m*\u001b[39;49mkwargs\n\u001b[0;32m    447\u001b[0m     )\n",
      "File \u001b[1;32mc:\\Users\\dtrag\\AppData\\Local\\Programs\\Python\\Python38\\lib\\site-packages\\pandas\\core\\groupby\\groupby.py:1823\u001b[0m, in \u001b[0;36mGroupBy._transform\u001b[1;34m(self, func, engine, engine_kwargs, *args, **kwargs)\u001b[0m\n\u001b[0;32m   1820\u001b[0m func \u001b[39m=\u001b[39m com\u001b[39m.\u001b[39mget_cython_func(func) \u001b[39mor\u001b[39;00m func\n\u001b[0;32m   1822\u001b[0m \u001b[39mif\u001b[39;00m \u001b[39mnot\u001b[39;00m \u001b[39misinstance\u001b[39m(func, \u001b[39mstr\u001b[39m):\n\u001b[1;32m-> 1823\u001b[0m     \u001b[39mreturn\u001b[39;00m \u001b[39mself\u001b[39;49m\u001b[39m.\u001b[39;49m_transform_general(func, \u001b[39m*\u001b[39;49margs, \u001b[39m*\u001b[39;49m\u001b[39m*\u001b[39;49mkwargs)\n\u001b[0;32m   1825\u001b[0m \u001b[39melif\u001b[39;00m func \u001b[39mnot\u001b[39;00m \u001b[39min\u001b[39;00m base\u001b[39m.\u001b[39mtransform_kernel_allowlist:\n\u001b[0;32m   1826\u001b[0m     msg \u001b[39m=\u001b[39m \u001b[39mf\u001b[39m\u001b[39m\"\u001b[39m\u001b[39m'\u001b[39m\u001b[39m{\u001b[39;00mfunc\u001b[39m}\u001b[39;00m\u001b[39m'\u001b[39m\u001b[39m is not a valid function name for transform(name)\u001b[39m\u001b[39m\"\u001b[39m\n",
      "File \u001b[1;32mc:\\Users\\dtrag\\AppData\\Local\\Programs\\Python\\Python38\\lib\\site-packages\\pandas\\core\\groupby\\generic.py:487\u001b[0m, in \u001b[0;36mSeriesGroupBy._transform_general\u001b[1;34m(self, func, *args, **kwargs)\u001b[0m\n\u001b[0;32m    484\u001b[0m     \u001b[39mfrom\u001b[39;00m \u001b[39mpandas\u001b[39;00m\u001b[39m.\u001b[39;00m\u001b[39mcore\u001b[39;00m\u001b[39m.\u001b[39;00m\u001b[39mreshape\u001b[39;00m\u001b[39m.\u001b[39;00m\u001b[39mconcat\u001b[39;00m \u001b[39mimport\u001b[39;00m concat\n\u001b[0;32m    486\u001b[0m     concatenated \u001b[39m=\u001b[39m concat(results)\n\u001b[1;32m--> 487\u001b[0m     result \u001b[39m=\u001b[39m \u001b[39mself\u001b[39;49m\u001b[39m.\u001b[39;49m_set_result_index_ordered(concatenated)\n\u001b[0;32m    488\u001b[0m \u001b[39melse\u001b[39;00m:\n\u001b[0;32m    489\u001b[0m     result \u001b[39m=\u001b[39m \u001b[39mself\u001b[39m\u001b[39m.\u001b[39mobj\u001b[39m.\u001b[39m_constructor(dtype\u001b[39m=\u001b[39mnp\u001b[39m.\u001b[39mfloat64)\n",
      "File \u001b[1;32mc:\\Users\\dtrag\\AppData\\Local\\Programs\\Python\\Python38\\lib\\site-packages\\pandas\\core\\groupby\\groupby.py:1207\u001b[0m, in \u001b[0;36mGroupBy._set_result_index_ordered\u001b[1;34m(self, result)\u001b[0m\n\u001b[0;32m   1205\u001b[0m original_positions \u001b[39m=\u001b[39m Index(\u001b[39mself\u001b[39m\u001b[39m.\u001b[39mgrouper\u001b[39m.\u001b[39mresult_ilocs())\n\u001b[0;32m   1206\u001b[0m result \u001b[39m=\u001b[39m result\u001b[39m.\u001b[39mset_axis(original_positions, axis\u001b[39m=\u001b[39m\u001b[39mself\u001b[39m\u001b[39m.\u001b[39maxis, copy\u001b[39m=\u001b[39m\u001b[39mFalse\u001b[39;00m)\n\u001b[1;32m-> 1207\u001b[0m result \u001b[39m=\u001b[39m result\u001b[39m.\u001b[39;49msort_index(axis\u001b[39m=\u001b[39;49m\u001b[39mself\u001b[39;49m\u001b[39m.\u001b[39;49maxis)\n\u001b[0;32m   1208\u001b[0m \u001b[39mif\u001b[39;00m \u001b[39mself\u001b[39m\u001b[39m.\u001b[39mgrouper\u001b[39m.\u001b[39mhas_dropped_na:\n\u001b[0;32m   1209\u001b[0m     \u001b[39m# Add back in any missing rows due to dropna - index here is integral\u001b[39;00m\n\u001b[0;32m   1210\u001b[0m     \u001b[39m# with values referring to the row of the input so can use RangeIndex\u001b[39;00m\n\u001b[0;32m   1211\u001b[0m     result \u001b[39m=\u001b[39m result\u001b[39m.\u001b[39mreindex(RangeIndex(\u001b[39mlen\u001b[39m(obj_axis)), axis\u001b[39m=\u001b[39m\u001b[39mself\u001b[39m\u001b[39m.\u001b[39maxis)\n",
      "File \u001b[1;32mc:\\Users\\dtrag\\AppData\\Local\\Programs\\Python\\Python38\\lib\\site-packages\\pandas\\util\\_decorators.py:331\u001b[0m, in \u001b[0;36mdeprecate_nonkeyword_arguments.<locals>.decorate.<locals>.wrapper\u001b[1;34m(*args, **kwargs)\u001b[0m\n\u001b[0;32m    325\u001b[0m \u001b[39mif\u001b[39;00m \u001b[39mlen\u001b[39m(args) \u001b[39m>\u001b[39m num_allow_args:\n\u001b[0;32m    326\u001b[0m     warnings\u001b[39m.\u001b[39mwarn(\n\u001b[0;32m    327\u001b[0m         msg\u001b[39m.\u001b[39mformat(arguments\u001b[39m=\u001b[39m_format_argument_list(allow_args)),\n\u001b[0;32m    328\u001b[0m         \u001b[39mFutureWarning\u001b[39;00m,\n\u001b[0;32m    329\u001b[0m         stacklevel\u001b[39m=\u001b[39mfind_stack_level(),\n\u001b[0;32m    330\u001b[0m     )\n\u001b[1;32m--> 331\u001b[0m \u001b[39mreturn\u001b[39;00m func(\u001b[39m*\u001b[39;49margs, \u001b[39m*\u001b[39;49m\u001b[39m*\u001b[39;49mkwargs)\n",
      "File \u001b[1;32mc:\\Users\\dtrag\\AppData\\Local\\Programs\\Python\\Python38\\lib\\site-packages\\pandas\\core\\series.py:3979\u001b[0m, in \u001b[0;36mSeries.sort_index\u001b[1;34m(self, axis, level, ascending, inplace, kind, na_position, sort_remaining, ignore_index, key)\u001b[0m\n\u001b[0;32m   3831\u001b[0m \u001b[39m@deprecate_nonkeyword_arguments\u001b[39m(version\u001b[39m=\u001b[39m\u001b[39mNone\u001b[39;00m, allowed_args\u001b[39m=\u001b[39m[\u001b[39m\"\u001b[39m\u001b[39mself\u001b[39m\u001b[39m\"\u001b[39m])\n\u001b[0;32m   3832\u001b[0m \u001b[39mdef\u001b[39;00m \u001b[39msort_index\u001b[39m(  \u001b[39m# type: ignore[override]\u001b[39;00m\n\u001b[0;32m   3833\u001b[0m     \u001b[39mself\u001b[39m,\n\u001b[1;32m   (...)\u001b[0m\n\u001b[0;32m   3842\u001b[0m     key: IndexKeyFunc \u001b[39m=\u001b[39m \u001b[39mNone\u001b[39;00m,\n\u001b[0;32m   3843\u001b[0m ) \u001b[39m-\u001b[39m\u001b[39m>\u001b[39m Series \u001b[39m|\u001b[39m \u001b[39mNone\u001b[39;00m:\n\u001b[0;32m   3844\u001b[0m     \u001b[39m\"\"\"\u001b[39;00m\n\u001b[0;32m   3845\u001b[0m \u001b[39m    Sort Series by index labels.\u001b[39;00m\n\u001b[0;32m   3846\u001b[0m \n\u001b[1;32m   (...)\u001b[0m\n\u001b[0;32m   3976\u001b[0m \u001b[39m    dtype: int64\u001b[39;00m\n\u001b[0;32m   3977\u001b[0m \u001b[39m    \"\"\"\u001b[39;00m\n\u001b[1;32m-> 3979\u001b[0m     \u001b[39mreturn\u001b[39;00m \u001b[39msuper\u001b[39;49m()\u001b[39m.\u001b[39;49msort_index(\n\u001b[0;32m   3980\u001b[0m         axis\u001b[39m=\u001b[39;49maxis,\n\u001b[0;32m   3981\u001b[0m         level\u001b[39m=\u001b[39;49mlevel,\n\u001b[0;32m   3982\u001b[0m         ascending\u001b[39m=\u001b[39;49mascending,\n\u001b[0;32m   3983\u001b[0m         inplace\u001b[39m=\u001b[39;49minplace,\n\u001b[0;32m   3984\u001b[0m         kind\u001b[39m=\u001b[39;49mkind,\n\u001b[0;32m   3985\u001b[0m         na_position\u001b[39m=\u001b[39;49mna_position,\n\u001b[0;32m   3986\u001b[0m         sort_remaining\u001b[39m=\u001b[39;49msort_remaining,\n\u001b[0;32m   3987\u001b[0m         ignore_index\u001b[39m=\u001b[39;49mignore_index,\n\u001b[0;32m   3988\u001b[0m         key\u001b[39m=\u001b[39;49mkey,\n\u001b[0;32m   3989\u001b[0m     )\n",
      "File \u001b[1;32mc:\\Users\\dtrag\\AppData\\Local\\Programs\\Python\\Python38\\lib\\site-packages\\pandas\\core\\generic.py:5010\u001b[0m, in \u001b[0;36mNDFrame.sort_index\u001b[1;34m(self, axis, level, ascending, inplace, kind, na_position, sort_remaining, ignore_index, key)\u001b[0m\n\u001b[0;32m   5006\u001b[0m ascending \u001b[39m=\u001b[39m validate_ascending(ascending)\n\u001b[0;32m   5008\u001b[0m target \u001b[39m=\u001b[39m \u001b[39mself\u001b[39m\u001b[39m.\u001b[39m_get_axis(axis)\n\u001b[1;32m-> 5010\u001b[0m indexer \u001b[39m=\u001b[39m get_indexer_indexer(\n\u001b[0;32m   5011\u001b[0m     target, level, ascending, kind, na_position, sort_remaining, key\n\u001b[0;32m   5012\u001b[0m )\n\u001b[0;32m   5014\u001b[0m \u001b[39mif\u001b[39;00m indexer \u001b[39mis\u001b[39;00m \u001b[39mNone\u001b[39;00m:\n\u001b[0;32m   5015\u001b[0m     \u001b[39mif\u001b[39;00m inplace:\n",
      "File \u001b[1;32mc:\\Users\\dtrag\\AppData\\Local\\Programs\\Python\\Python38\\lib\\site-packages\\pandas\\core\\sorting.py:100\u001b[0m, in \u001b[0;36mget_indexer_indexer\u001b[1;34m(target, level, ascending, kind, na_position, sort_remaining, key)\u001b[0m\n\u001b[0;32m     97\u001b[0m         \u001b[39mreturn\u001b[39;00m \u001b[39mNone\u001b[39;00m\n\u001b[0;32m     99\u001b[0m     \u001b[39m# ascending can only be a Sequence for MultiIndex\u001b[39;00m\n\u001b[1;32m--> 100\u001b[0m     indexer \u001b[39m=\u001b[39m nargsort(\n\u001b[0;32m    101\u001b[0m         target,\n\u001b[0;32m    102\u001b[0m         kind\u001b[39m=\u001b[39;49mkind,\n\u001b[0;32m    103\u001b[0m         ascending\u001b[39m=\u001b[39;49mcast(\u001b[39mbool\u001b[39;49m, ascending),\n\u001b[0;32m    104\u001b[0m         na_position\u001b[39m=\u001b[39;49mna_position,\n\u001b[0;32m    105\u001b[0m     )\n\u001b[0;32m    106\u001b[0m \u001b[39mreturn\u001b[39;00m indexer\n",
      "File \u001b[1;32mc:\\Users\\dtrag\\AppData\\Local\\Programs\\Python\\Python38\\lib\\site-packages\\pandas\\core\\sorting.py:432\u001b[0m, in \u001b[0;36mnargsort\u001b[1;34m(items, kind, ascending, na_position, key, mask)\u001b[0m\n\u001b[0;32m    430\u001b[0m idx \u001b[39m=\u001b[39m np\u001b[39m.\u001b[39marange(\u001b[39mlen\u001b[39m(items))\n\u001b[0;32m    431\u001b[0m non_nans \u001b[39m=\u001b[39m items[\u001b[39m~\u001b[39mmask]\n\u001b[1;32m--> 432\u001b[0m non_nan_idx \u001b[39m=\u001b[39m idx[\u001b[39m~\u001b[39;49mmask]\n\u001b[0;32m    434\u001b[0m nan_idx \u001b[39m=\u001b[39m np\u001b[39m.\u001b[39mnonzero(mask)[\u001b[39m0\u001b[39m]\n\u001b[0;32m    435\u001b[0m \u001b[39mif\u001b[39;00m \u001b[39mnot\u001b[39;00m ascending:\n",
      "\u001b[1;31mMemoryError\u001b[0m: Unable to allocate 973. MiB for an array with shape (255189804,) and data type int32"
     ]
    }
   ],
   "source": [
    "e = a.groupby(\"username\",sort=False)[\"score\"].transform(pd.Series.mean)\n",
    "a = a[(e>0)& (e<10)] #(a['score'] >= e) & \n",
    "a.shape"
   ]
  },
  {
   "attachments": {},
   "cell_type": "markdown",
   "metadata": {},
   "source": [
    "### Split data"
   ]
  },
  {
   "cell_type": "code",
   "execution_count": null,
   "metadata": {},
   "outputs": [],
   "source": [
    "import pandas as pd\n",
    "import numpy as np\n",
    "a_small = pd.read_feather(\"ratings5_processed.feather\")"
   ]
  },
  {
   "cell_type": "code",
   "execution_count": null,
   "metadata": {},
   "outputs": [
    {
     "data": {
      "text/html": [
       "<div>\n",
       "<style scoped>\n",
       "    .dataframe tbody tr th:only-of-type {\n",
       "        vertical-align: middle;\n",
       "    }\n",
       "\n",
       "    .dataframe tbody tr th {\n",
       "        vertical-align: top;\n",
       "    }\n",
       "\n",
       "    .dataframe thead th {\n",
       "        text-align: right;\n",
       "    }\n",
       "</style>\n",
       "<table border=\"1\" class=\"dataframe\">\n",
       "  <thead>\n",
       "    <tr style=\"text-align: right;\">\n",
       "      <th></th>\n",
       "      <th>username</th>\n",
       "      <th>index</th>\n",
       "      <th>anime_id</th>\n",
       "      <th>score</th>\n",
       "      <th>status</th>\n",
       "      <th>created_at</th>\n",
       "      <th>train_label</th>\n",
       "    </tr>\n",
       "  </thead>\n",
       "  <tbody>\n",
       "    <tr>\n",
       "      <th>0</th>\n",
       "      <td>2</td>\n",
       "      <td>327</td>\n",
       "      <td>323</td>\n",
       "      <td>7</td>\n",
       "      <td>1</td>\n",
       "      <td>0</td>\n",
       "      <td>0</td>\n",
       "    </tr>\n",
       "    <tr>\n",
       "      <th>1</th>\n",
       "      <td>2</td>\n",
       "      <td>328</td>\n",
       "      <td>324</td>\n",
       "      <td>7</td>\n",
       "      <td>1</td>\n",
       "      <td>0</td>\n",
       "      <td>0</td>\n",
       "    </tr>\n",
       "    <tr>\n",
       "      <th>2</th>\n",
       "      <td>2</td>\n",
       "      <td>329</td>\n",
       "      <td>325</td>\n",
       "      <td>0</td>\n",
       "      <td>1</td>\n",
       "      <td>0</td>\n",
       "      <td>0</td>\n",
       "    </tr>\n",
       "    <tr>\n",
       "      <th>3</th>\n",
       "      <td>2</td>\n",
       "      <td>330</td>\n",
       "      <td>326</td>\n",
       "      <td>0</td>\n",
       "      <td>1</td>\n",
       "      <td>0</td>\n",
       "      <td>0</td>\n",
       "    </tr>\n",
       "    <tr>\n",
       "      <th>4</th>\n",
       "      <td>2</td>\n",
       "      <td>331</td>\n",
       "      <td>327</td>\n",
       "      <td>7</td>\n",
       "      <td>1</td>\n",
       "      <td>0</td>\n",
       "      <td>0</td>\n",
       "    </tr>\n",
       "  </tbody>\n",
       "</table>\n",
       "</div>"
      ],
      "text/plain": [
       "   username  index  anime_id  score  status  created_at  train_label\n",
       "0         2    327       323      7       1           0            0\n",
       "1         2    328       324      7       1           0            0\n",
       "2         2    329       325      0       1           0            0\n",
       "3         2    330       326      0       1           0            0\n",
       "4         2    331       327      7       1           0            0"
      ]
     },
     "execution_count": 2,
     "metadata": {},
     "output_type": "execute_result"
    }
   ],
   "source": [
    "a_small"
   ]
  },
  {
   "cell_type": "code",
   "execution_count": null,
   "metadata": {},
   "outputs": [],
   "source": [
    "a = pd.read_feather(\"ratings5.feather\")"
   ]
  },
  {
   "cell_type": "code",
   "execution_count": null,
   "metadata": {},
   "outputs": [
    {
     "data": {
      "text/html": [
       "<div>\n",
       "<style scoped>\n",
       "    .dataframe tbody tr th:only-of-type {\n",
       "        vertical-align: middle;\n",
       "    }\n",
       "\n",
       "    .dataframe tbody tr th {\n",
       "        vertical-align: top;\n",
       "    }\n",
       "\n",
       "    .dataframe thead th {\n",
       "        text-align: right;\n",
       "    }\n",
       "</style>\n",
       "<table border=\"1\" class=\"dataframe\">\n",
       "  <thead>\n",
       "    <tr style=\"text-align: right;\">\n",
       "      <th></th>\n",
       "      <th>index</th>\n",
       "      <th>user</th>\n",
       "      <th>anime_id</th>\n",
       "      <th>score</th>\n",
       "      <th>status</th>\n",
       "      <th>created_at</th>\n",
       "    </tr>\n",
       "  </thead>\n",
       "  <tbody>\n",
       "    <tr>\n",
       "      <th>68</th>\n",
       "      <td>68</td>\n",
       "      <td>Emiya9901</td>\n",
       "      <td>6682</td>\n",
       "      <td>0</td>\n",
       "      <td>2</td>\n",
       "      <td>1520456043</td>\n",
       "    </tr>\n",
       "    <tr>\n",
       "      <th>69</th>\n",
       "      <td>69</td>\n",
       "      <td>Emiya9901</td>\n",
       "      <td>11759</td>\n",
       "      <td>0</td>\n",
       "      <td>2</td>\n",
       "      <td>1520453747</td>\n",
       "    </tr>\n",
       "    <tr>\n",
       "      <th>70</th>\n",
       "      <td>70</td>\n",
       "      <td>Emiya9901</td>\n",
       "      <td>31580</td>\n",
       "      <td>0</td>\n",
       "      <td>2</td>\n",
       "      <td>1520455186</td>\n",
       "    </tr>\n",
       "    <tr>\n",
       "      <th>71</th>\n",
       "      <td>71</td>\n",
       "      <td>Emiya9901</td>\n",
       "      <td>33253</td>\n",
       "      <td>0</td>\n",
       "      <td>2</td>\n",
       "      <td>1520457963</td>\n",
       "    </tr>\n",
       "    <tr>\n",
       "      <th>72</th>\n",
       "      <td>72</td>\n",
       "      <td>Emiya9901</td>\n",
       "      <td>22199</td>\n",
       "      <td>0</td>\n",
       "      <td>2</td>\n",
       "      <td>1520453391</td>\n",
       "    </tr>\n",
       "    <tr>\n",
       "      <th>...</th>\n",
       "      <td>...</td>\n",
       "      <td>...</td>\n",
       "      <td>...</td>\n",
       "      <td>...</td>\n",
       "      <td>...</td>\n",
       "      <td>...</td>\n",
       "    </tr>\n",
       "    <tr>\n",
       "      <th>256206749</th>\n",
       "      <td>212501301</td>\n",
       "      <td>YaraAlasaad</td>\n",
       "      <td>543</td>\n",
       "      <td>0</td>\n",
       "      <td>2</td>\n",
       "      <td>1438210121</td>\n",
       "    </tr>\n",
       "    <tr>\n",
       "      <th>256206750</th>\n",
       "      <td>212501302</td>\n",
       "      <td>YaraAlasaad</td>\n",
       "      <td>2608</td>\n",
       "      <td>0</td>\n",
       "      <td>2</td>\n",
       "      <td>1438210130</td>\n",
       "    </tr>\n",
       "    <tr>\n",
       "      <th>256206751</th>\n",
       "      <td>212501303</td>\n",
       "      <td>YaraAlasaad</td>\n",
       "      <td>861</td>\n",
       "      <td>0</td>\n",
       "      <td>2</td>\n",
       "      <td>1438210147</td>\n",
       "    </tr>\n",
       "    <tr>\n",
       "      <th>256206752</th>\n",
       "      <td>212501304</td>\n",
       "      <td>YaraAlasaad</td>\n",
       "      <td>793</td>\n",
       "      <td>0</td>\n",
       "      <td>2</td>\n",
       "      <td>1438210156</td>\n",
       "    </tr>\n",
       "    <tr>\n",
       "      <th>256206753</th>\n",
       "      <td>212501305</td>\n",
       "      <td>YaraAlasaad</td>\n",
       "      <td>3091</td>\n",
       "      <td>0</td>\n",
       "      <td>2</td>\n",
       "      <td>1438210151</td>\n",
       "    </tr>\n",
       "  </tbody>\n",
       "</table>\n",
       "<p>30158079 rows × 6 columns</p>\n",
       "</div>"
      ],
      "text/plain": [
       "               index         user  anime_id  score  status  created_at\n",
       "68                68    Emiya9901      6682      0       2  1520456043\n",
       "69                69    Emiya9901     11759      0       2  1520453747\n",
       "70                70    Emiya9901     31580      0       2  1520455186\n",
       "71                71    Emiya9901     33253      0       2  1520457963\n",
       "72                72    Emiya9901     22199      0       2  1520453391\n",
       "...              ...          ...       ...    ...     ...         ...\n",
       "256206749  212501301  YaraAlasaad       543      0       2  1438210121\n",
       "256206750  212501302  YaraAlasaad      2608      0       2  1438210130\n",
       "256206751  212501303  YaraAlasaad       861      0       2  1438210147\n",
       "256206752  212501304  YaraAlasaad       793      0       2  1438210156\n",
       "256206753  212501305  YaraAlasaad      3091      0       2  1438210151\n",
       "\n",
       "[30158079 rows x 6 columns]"
      ]
     },
     "execution_count": 9,
     "metadata": {},
     "output_type": "execute_result"
    }
   ],
   "source": [
    "a[np.bitwise_and(a['status']==2,a['score']==0)]"
   ]
  },
  {
   "cell_type": "code",
   "execution_count": null,
   "metadata": {},
   "outputs": [
    {
     "data": {
      "text/html": [
       "<div>\n",
       "<style scoped>\n",
       "    .dataframe tbody tr th:only-of-type {\n",
       "        vertical-align: middle;\n",
       "    }\n",
       "\n",
       "    .dataframe tbody tr th {\n",
       "        vertical-align: top;\n",
       "    }\n",
       "\n",
       "    .dataframe thead th {\n",
       "        text-align: right;\n",
       "    }\n",
       "</style>\n",
       "<table border=\"1\" class=\"dataframe\">\n",
       "  <thead>\n",
       "    <tr style=\"text-align: right;\">\n",
       "      <th></th>\n",
       "      <th>username</th>\n",
       "      <th>anime_id</th>\n",
       "      <th>score</th>\n",
       "      <th>status</th>\n",
       "      <th>created_at</th>\n",
       "      <th>train_label</th>\n",
       "    </tr>\n",
       "  </thead>\n",
       "  <tbody>\n",
       "    <tr>\n",
       "      <th>1892149</th>\n",
       "      <td>13081</td>\n",
       "      <td>3602</td>\n",
       "      <td>0</td>\n",
       "      <td>0</td>\n",
       "      <td>0</td>\n",
       "      <td>0</td>\n",
       "    </tr>\n",
       "    <tr>\n",
       "      <th>2235468</th>\n",
       "      <td>15468</td>\n",
       "      <td>5907</td>\n",
       "      <td>9</td>\n",
       "      <td>0</td>\n",
       "      <td>0</td>\n",
       "      <td>1</td>\n",
       "    </tr>\n",
       "    <tr>\n",
       "      <th>2235469</th>\n",
       "      <td>15468</td>\n",
       "      <td>3896</td>\n",
       "      <td>9</td>\n",
       "      <td>0</td>\n",
       "      <td>0</td>\n",
       "      <td>1</td>\n",
       "    </tr>\n",
       "    <tr>\n",
       "      <th>2235470</th>\n",
       "      <td>15468</td>\n",
       "      <td>7876</td>\n",
       "      <td>8</td>\n",
       "      <td>0</td>\n",
       "      <td>0</td>\n",
       "      <td>0</td>\n",
       "    </tr>\n",
       "    <tr>\n",
       "      <th>2235471</th>\n",
       "      <td>15468</td>\n",
       "      <td>9568</td>\n",
       "      <td>0</td>\n",
       "      <td>0</td>\n",
       "      <td>0</td>\n",
       "      <td>0</td>\n",
       "    </tr>\n",
       "    <tr>\n",
       "      <th>...</th>\n",
       "      <td>...</td>\n",
       "      <td>...</td>\n",
       "      <td>...</td>\n",
       "      <td>...</td>\n",
       "      <td>...</td>\n",
       "      <td>...</td>\n",
       "    </tr>\n",
       "    <tr>\n",
       "      <th>150951343</th>\n",
       "      <td>1001490</td>\n",
       "      <td>4600</td>\n",
       "      <td>7</td>\n",
       "      <td>0</td>\n",
       "      <td>0</td>\n",
       "      <td>1</td>\n",
       "    </tr>\n",
       "    <tr>\n",
       "      <th>151315722</th>\n",
       "      <td>1004412</td>\n",
       "      <td>827</td>\n",
       "      <td>7</td>\n",
       "      <td>0</td>\n",
       "      <td>1644366591</td>\n",
       "      <td>0</td>\n",
       "    </tr>\n",
       "    <tr>\n",
       "      <th>151315723</th>\n",
       "      <td>1004412</td>\n",
       "      <td>931</td>\n",
       "      <td>9</td>\n",
       "      <td>0</td>\n",
       "      <td>1644400606</td>\n",
       "      <td>1</td>\n",
       "    </tr>\n",
       "    <tr>\n",
       "      <th>151315724</th>\n",
       "      <td>1004412</td>\n",
       "      <td>932</td>\n",
       "      <td>9</td>\n",
       "      <td>0</td>\n",
       "      <td>1644400630</td>\n",
       "      <td>1</td>\n",
       "    </tr>\n",
       "    <tr>\n",
       "      <th>160805862</th>\n",
       "      <td>1080744</td>\n",
       "      <td>4532</td>\n",
       "      <td>0</td>\n",
       "      <td>0</td>\n",
       "      <td>1640554308</td>\n",
       "      <td>0</td>\n",
       "    </tr>\n",
       "  </tbody>\n",
       "</table>\n",
       "<p>3692 rows × 6 columns</p>\n",
       "</div>"
      ],
      "text/plain": [
       "           username  anime_id  score  status  created_at  train_label\n",
       "1892149       13081      3602      0       0           0            0\n",
       "2235468       15468      5907      9       0           0            1\n",
       "2235469       15468      3896      9       0           0            1\n",
       "2235470       15468      7876      8       0           0            0\n",
       "2235471       15468      9568      0       0           0            0\n",
       "...             ...       ...    ...     ...         ...          ...\n",
       "150951343   1001490      4600      7       0           0            1\n",
       "151315722   1004412       827      7       0  1644366591            0\n",
       "151315723   1004412       931      9       0  1644400606            1\n",
       "151315724   1004412       932      9       0  1644400630            1\n",
       "160805862   1080744      4532      0       0  1640554308            0\n",
       "\n",
       "[3692 rows x 6 columns]"
      ]
     },
     "execution_count": 5,
     "metadata": {},
     "output_type": "execute_result"
    }
   ],
   "source": [
    "a_small[a_small['status']==0]"
   ]
  },
  {
   "cell_type": "code",
   "execution_count": null,
   "metadata": {},
   "outputs": [
    {
     "data": {
      "text/plain": [
       "((45358603, 3), (2764379, 3), (2786160, 3))"
      ]
     },
     "execution_count": 14,
     "metadata": {},
     "output_type": "execute_result"
    }
   ],
   "source": [
    "validation = np.random.choice(a_small.index.unique(),size=90000,replace=False)\n",
    "validation_df = a_small[a_small.index.isin(validation[len(validation)//2:])]\n",
    "test_df = a_small[a_small.index.isin(validation[:len(validation)//2])]\n",
    "train = a_small[~a_small.index.isin(validation)]\n",
    "train.shape,validation_df.shape,test_df.shape"
   ]
  },
  {
   "attachments": {},
   "cell_type": "markdown",
   "metadata": {},
   "source": [
    "### Store and load data"
   ]
  },
  {
   "cell_type": "code",
   "execution_count": null,
   "metadata": {},
   "outputs": [],
   "source": [
    "train.reset_index().to_feather(\"train_processed.feather\")\n",
    "test_df.reset_index().to_feather(\"test_processed.feather\")\n",
    "validation_df.reset_index().to_feather(\"valid_processed.feather\")"
   ]
  },
  {
   "cell_type": "code",
   "execution_count": null,
   "metadata": {},
   "outputs": [
    {
     "data": {
      "text/plain": [
       "(3, 10, 10174)"
      ]
     },
     "execution_count": 45,
     "metadata": {},
     "output_type": "execute_result"
    }
   ],
   "source": [
    "p = pd.read_feather(\"data/train_processed.feather\")\n",
    "p['score'].min(),p['score'].max(),p['anime_id'].max()"
   ]
  },
  {
   "cell_type": "code",
   "execution_count": null,
   "metadata": {},
   "outputs": [
    {
     "data": {
      "text/plain": [
       "489803"
      ]
     },
     "execution_count": 47,
     "metadata": {},
     "output_type": "execute_result"
    }
   ],
   "source": [
    "p['username'].nunique()"
   ]
  },
  {
   "cell_type": "code",
   "execution_count": null,
   "metadata": {},
   "outputs": [
    {
     "data": {
      "text/plain": [
       "tensor([[0.5000, 0.0000, 0.7500],\n",
       "        [0.0000, 1.6667, 1.5000]])"
      ]
     },
     "execution_count": 58,
     "metadata": {},
     "output_type": "execute_result"
    }
   ],
   "source": [
    "import torch\n",
    "a = torch.tensor([[1,0,3],[0,5,6]])\n",
    "b = torch.arange(2,5)\n",
    "a/b"
   ]
  },
  {
   "cell_type": "code",
   "execution_count": null,
   "metadata": {},
   "outputs": [
    {
     "data": {
      "text/plain": [
       "tensor([[100,   8, 100],\n",
       "        [  9, 100, 100]])"
      ]
     },
     "execution_count": 56,
     "metadata": {},
     "output_type": "execute_result"
    }
   ],
   "source": [
    "c = torch.tensor([[1,8,3],[9,5,6]])\n",
    "c[b[:,0],b[:,1]] = 100\n",
    "c"
   ]
  },
  {
   "attachments": {},
   "cell_type": "markdown",
   "metadata": {},
   "source": [
    "## Reformatting item map to contain anime titles"
   ]
  },
  {
   "cell_type": "code",
   "execution_count": null,
   "metadata": {},
   "outputs": [],
   "source": [
    "import pandas as pd\n",
    "import sqlite3\n",
    "item_map = pd.read_csv(\"item_map.csv\").set_index(\"item_id\")\n",
    "table = pd.read_sql(\"select id,anime_title from anime_info\",con=sqlite3.connect(\"../DiscordBot/animeinfo.sqlite3\")).set_index(\"id\")\n",
    "# item_map.join(table).to_csv(\"item_map.csv\")"
   ]
  },
  {
   "cell_type": "code",
   "execution_count": null,
   "metadata": {},
   "outputs": [
    {
     "name": "stdout",
     "output_type": "stream",
     "text": [
      "1.17 ms ± 231 µs per loop (mean ± std. dev. of 2 runs, 1 loop each)\n",
      "468 µs ± 87.4 µs per loop (mean ± std. dev. of 2 runs, 1 loop each)\n"
     ]
    }
   ],
   "source": [
    "%timeit -n1 -r 2 item_map.reindex([*range(5000)]).dropna()['train_id'].values\n",
    "%timeit -n1 -r 2 item_map.loc[item_map.index.isin([*range(5000)]),\"train_id\"].values\n"
   ]
  },
  {
   "cell_type": "code",
   "execution_count": null,
   "metadata": {},
   "outputs": [
    {
     "data": {
      "text/plain": [
       "tensor([ 2, 25, 87, 41, 77, 61, 23, 86, 38, 58, 17, 21, 19,  4, 50, 69, 44, 88,\n",
       "        28, 60, 32, 71, 52, 26, 91, 96, 34, 63, 11, 56, 66, 31, 81, 68, 65,  0,\n",
       "        24, 83,  7, 35, 13, 53, 85, 54, 98, 55, 14, 67, 47, 92, 36, 15,  9, 43,\n",
       "        99, 27, 89,  6, 20, 46, 95, 84, 79, 12, 94, 78, 72, 49, 76, 57, 80, 59,\n",
       "        82, 74, 22, 97, 16, 75,  8, 42, 10, 40, 45, 29, 18, 62, 39, 70, 93, 48,\n",
       "        73, 37, 33, 90, 64, 51,  3,  5,  1, 30])"
      ]
     },
     "execution_count": 12,
     "metadata": {},
     "output_type": "execute_result"
    }
   ],
   "source": [
    "import torch\n",
    "a = torch.rand(100)\n",
    "a[[1,30]] = -(2**31)\n",
    "out_sorted = torch.argsort(a,descending=True)\n",
    "out_sorted"
   ]
  },
  {
   "cell_type": "code",
   "execution_count": null,
   "metadata": {},
   "outputs": [],
   "source": [
    "from scipy import stats\n",
    "import numpy as np"
   ]
  },
  {
   "cell_type": "code",
   "execution_count": null,
   "metadata": {},
   "outputs": [
    {
     "data": {
      "text/plain": [
       "SpearmanrResult(correlation=-0.9999999999999999, pvalue=6.646897422032013e-64)"
      ]
     },
     "execution_count": 125,
     "metadata": {},
     "output_type": "execute_result"
    }
   ],
   "source": [
    "a = np.random.normal(0,1,10)\n",
    "a = np.arange(10)\n",
    "b = a[::-1]\n",
    "stats.spearmanr(a,b)"
   ]
  },
  {
   "cell_type": "code",
   "execution_count": null,
   "metadata": {},
   "outputs": [],
   "source": []
  }
 ],
 "metadata": {
  "kernelspec": {
   "display_name": "Python 3",
   "language": "python",
   "name": "python3"
  },
  "language_info": {
   "codemirror_mode": {
    "name": "ipython",
    "version": 3
   },
   "file_extension": ".py",
   "mimetype": "text/x-python",
   "name": "python",
   "nbconvert_exporter": "python",
   "pygments_lexer": "ipython3",
   "version": "3.8.16"
  },
  "orig_nbformat": 4,
  "vscode": {
   "interpreter": {
    "hash": "d1cd463eb0e1cea8b05aff3da9e81ab1b777eb57efd638b75483a875b6ff86e3"
   }
  }
 },
 "nbformat": 4,
 "nbformat_minor": 2
}
